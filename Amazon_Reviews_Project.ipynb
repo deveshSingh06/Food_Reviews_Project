{
  "nbformat": 4,
  "nbformat_minor": 0,
  "metadata": {
    "colab": {
      "name": "Amazon_Reviews_Project_Resume.ipynb",
      "provenance": [],
      "collapsed_sections": [
        "SIn8pwLdLs4L"
      ]
    },
    "kernelspec": {
      "display_name": "Python 3",
      "language": "python",
      "name": "python3"
    },
    "language_info": {
      "codemirror_mode": {
        "name": "ipython",
        "version": 3
      },
      "file_extension": ".py",
      "mimetype": "text/x-python",
      "name": "python",
      "nbconvert_exporter": "python",
      "pygments_lexer": "ipython3",
      "version": "3.6.5"
    }
  },
  "cells": [
    {
      "cell_type": "markdown",
      "metadata": {
        "id": "NbUqhxDIpwz7"
      },
      "source": [
        "#Table Of Contents"
      ]
    },
    {
      "cell_type": "markdown",
      "metadata": {
        "id": "U3Sk7vHEp3Me"
      },
      "source": [
        "* <a href='#0'>0. About Amazon Fine Food Reviews Analysis</a>  \n",
        "\n",
        "\n",
        "- <a href='#1'>1. Reading Data</a>  \n",
        "  - <a href='#11'>1.1. Loading Necessary Libraries </a>\n",
        "  - <a href='#12'>1.2. Loading the data </a>\n",
        "\n",
        "\n",
        "- <a href='#2'>2. Exploratory Data Analysis </a>\n",
        "  - <a href='#21'>2.1 Data Cleaning: Deduplication</a>\n",
        "\n",
        "\n",
        "- <a href='#3'>  3. Preprocessing </a>\n",
        "  - <a href='#31'>  3.1. Preprocessing Review Text </a>\n",
        "  - <a href='#32'>3.2 Applying T-SNE To Visualize Data </a>\n",
        "   - <a href='#321'> 3.2.1. Bag of Words </a>\n",
        "   - <a href='#322'> 3.2.2. TF-IDF </a>\n",
        "   - <a href='#323'> 3.2.3.Applying T-SNE </a>\n",
        "     - <a href='#3231'> 3.2.3.1. Applying TNSE on Text BoW vectors </a>\n",
        "     - <a href='#3232'> 3.2.3.2. Applying TNSE on Text TFIDF vectors </a>\n",
        "   - <a href='#324'> 3.2.4. T-SNE Conclusions </a>\n",
        "\n",
        "- <a href='#4'>  4. Splitting preprocessed reviews into train, cross validate and test datasets </a>\n",
        "\n",
        "\n",
        "- <a href='#5'>  5. Featurization </a>\n",
        "  - <a href='#51'> 5.1 Featurizing data using Bag Of Words(BoW) </a>\n",
        "  - <a href='#51'>5.2 Featurizing data using TFIDF </a>\n",
        "\n",
        "\n",
        "- <a href='#6'>  6. Building Machine Learning Models </a>\n",
        "  - <a href='#61'>6.1. Building Random Forest Model </a>\n",
        "    - <a href='#611'>6.1.1. Applying Random Forests on BoW</a>\n",
        "     - <a href='#6111'> 6.1.1.1 Plotting heatmaps to understand AUC score for optimal no. of estimators and max depth better </a>\n",
        "     - <a href='#6112'> 6.1.1.2. Evaluation metrics </a>\n",
        "     - <a href='#6113'> 6.1.1.3. Feature Importance </a>\n",
        "    - <a href='#611'>6.1.2. Applying Random Forests on TFIDF </a>\n",
        "      - <a href='#6121'>6.1.2.1 Plotting heatmaps to understand AUC score for optimal no. of estimators and max depth better </a>\n",
        "      - <a href='#6122'>6.1.2.2. Evaluation metrics </a>\n",
        "      - <a href='#6123'>6.1.2.3. Feature Importance </a>\n",
        "  - <a href='#62'>6.2 Building GBDT Model using XGBOOST </a>\n",
        "    - <a href='#621'>6.2.1. Applying XGBOOST on BOW </a>\n",
        "      - <a href='#6211'>6.2.1.1. Evaluation metrics </a>\n",
        "    - <a href='#622'>6.2.2. Applying XGBOOST on TFIDF </a>\n",
        "      - <a href='#6211'>6.2.2.1. Evaluation metrics </a>\n",
        "\n",
        "- <a href='#7'> 7. Model Performance Summary </a>\n",
        "\n",
        "\n",
        "- <a href='#8'> 8. Model Observations </a>\n",
        "\n",
        "- <a href='#9'> 9. References </a>"
      ]
    },
    {
      "cell_type": "markdown",
      "metadata": {
        "id": "pI2r_SRyLs2H"
      },
      "source": [
        "# <a id='0'>0. About Amazon Fine Food Reviews Analysis</a>\n",
        "\n",
        "Data Source: https://www.kaggle.com/snap/amazon-fine-food-reviews <br>\n",
        "\n",
        "EDA: https://nycdatascience.com/blog/student-works/amazon-fine-foods-visualization/\n",
        "\n",
        "\n",
        "The Amazon Fine Food Reviews dataset consists of reviews of fine foods from Amazon.<br>\n",
        "\n",
        "Number of reviews: 568,454<br>\n",
        "Number of users: 256,059<br>\n",
        "Number of products: 74,258<br>\n",
        "Timespan: Oct 1999 - Oct 2012<br>\n",
        "Number of Attributes/Columns in data: 10 \n",
        "\n",
        "Attribute Information:\n",
        "\n",
        "1. Id\n",
        "2. ProductId - unique identifier for the product\n",
        "3. UserId - unqiue identifier for the user\n",
        "4. ProfileName\n",
        "5. HelpfulnessNumerator - number of users who found the review helpful\n",
        "6. HelpfulnessDenominator - number of users who indicated whether they found the review helpful or not\n",
        "7. Score - rating between 1 and 5\n",
        "8. Time - timestamp for the review\n",
        "9. Summary - brief summary of the review\n",
        "10. Text - text of the review\n",
        "\n",
        "<img src=\"https://nycdsa-blog-files.s3.us-east-2.amazonaws.com/2016/04/AmazonReview-300x189.png\" width=\"600\">\n",
        "\n",
        "\n",
        "#### What are we trying to achieve?\n",
        "- Given a review, determine whether the review is positive (rating of 4 or 5) or negative (rating of 1 or 2).\n",
        "\n",
        "\n",
        "#### How to determine if a review is positive or negative?\n",
        " \n",
        " - We could use score/rating of reviews and build machine learning models that can classify the reviews into being positive or negative.\n",
        " - A rating of 4 or 5 can be cosnidered as a positive review.\n",
        " - A rating of 1 or 2 can be considered as negative one.\n",
        " - A review of rating 3 is considered neutral and such reviews are ignored from our analysis.\n",
        " - This is an approximate and proxy way of determining the polarity (positivity/negativity) of a review.\n",
        "\n",
        "\n"
      ]
    },
    {
      "cell_type": "markdown",
      "metadata": {
        "id": "_qeGSFEELs2L"
      },
      "source": [
        "# <a id='1'>1. Reading Data</a>"
      ]
    },
    {
      "cell_type": "markdown",
      "metadata": {
        "id": "u7-AFgKxs1FA"
      },
      "source": [
        "### <a id='11'>1.1. Loading Necessary Libraries </a>"
      ]
    },
    {
      "cell_type": "code",
      "metadata": {
        "id": "TKX2L4tCLs2Q"
      },
      "source": [
        "%matplotlib inline\n",
        "import warnings\n",
        "warnings.filterwarnings(\"ignore\")\n",
        "\n",
        "\n",
        "import sqlite3\n",
        "import pandas as pd\n",
        "import numpy as np\n",
        "import nltk\n",
        "import string\n",
        "import matplotlib.pyplot as plt\n",
        "import seaborn as sns\n",
        "from sklearn.feature_extraction.text import TfidfTransformer\n",
        "from sklearn.feature_extraction.text import TfidfVectorizer\n",
        "\n",
        "from sklearn.feature_extraction.text import CountVectorizer\n",
        "from sklearn.metrics import confusion_matrix\n",
        "from sklearn import metrics\n",
        "from sklearn.metrics import roc_curve, auc\n",
        "from nltk.stem.porter import PorterStemmer\n",
        "\n",
        "import re\n",
        "# Tutorial about Python regular expressions: https://pymotw.com/2/re/\n",
        "import string\n",
        "from nltk.corpus import stopwords\n",
        "from nltk.stem import PorterStemmer\n",
        "from nltk.stem.wordnet import WordNetLemmatizer\n",
        "from sklearn.manifold import TSNE\n",
        "import pickle\n",
        "\n",
        "from tqdm import tqdm\n",
        "import os"
      ],
      "execution_count": null,
      "outputs": []
    },
    {
      "cell_type": "markdown",
      "metadata": {
        "id": "Whd9FP8Lsk6S"
      },
      "source": [
        "###<a id='12'> 1.2. Loading the data </a>"
      ]
    },
    {
      "cell_type": "markdown",
      "metadata": {
        "id": "B54glUYgLs2N"
      },
      "source": [
        "The dataset is available in two forms\n",
        "1. .csv file\n",
        "2. SQLite Database\n",
        "\n",
        "In order to load the data, We have used the SQLITE dataset as it is easier to query the data and visualise the data efficiently.\n",
        "<br> \n",
        "\n",
        "Here as we only want to get the global sentiment of the recommendations (positive or negative), we will purposefully ignore all Scores equal to 3. If the score is above 3, then the recommendation wil be set to \"positive\". Otherwise, it will be set to \"negative\"."
      ]
    },
    {
      "cell_type": "code",
      "metadata": {
        "id": "MvHf1f__Ls2Y",
        "colab": {
          "base_uri": "https://localhost:8080/",
          "height": 203
        },
        "outputId": "8394d244-1f8a-4cc5-d344-b73d21e9d4ce"
      },
      "source": [
        "# using SQLite Table to read data.\n",
        "con = sqlite3.connect('database.sqlite') \n",
        "\n",
        "# filtering only positive and negative reviews i.e. \n",
        "# not taking into consideration those reviews with Score=3\n",
        "# SELECT * FROM Reviews WHERE Score != 3 LIMIT 500000, will give top 500000 data points\n",
        "# you can change the number to any other number based on your computing power\n",
        "\n",
        "# filtered_data = pd.read_sql_query(\"\"\" SELECT * FROM Reviews WHERE Score != 3 LIMIT 500000\"\"\", con) \n",
        "\n",
        "filtered_data = pd.read_sql_query(\"\"\" SELECT * FROM Reviews WHERE Score != 3 LIMIT 100000\"\"\", con) \n",
        "\n",
        "# Give reviews with Score>3 a positive rating(1), and reviews with a score<3 a negative rating(0).\n",
        "def partition(x):\n",
        "    if x < 3:\n",
        "        return 0\n",
        "    return 1\n",
        "\n",
        "#changing reviews with score less than 3 to be positive and vice-versa\n",
        "actualScore = filtered_data['Score']\n",
        "positiveNegative = actualScore.map(partition) \n",
        "filtered_data['Score'] = positiveNegative\n",
        "print(\"Number of data points in our data\", filtered_data.shape)\n",
        "filtered_data.head(3)"
      ],
      "execution_count": null,
      "outputs": [
        {
          "output_type": "stream",
          "text": [
            "Number of data points in our data (100000, 10)\n"
          ],
          "name": "stdout"
        },
        {
          "output_type": "execute_result",
          "data": {
            "text/html": [
              "<div>\n",
              "<style scoped>\n",
              "    .dataframe tbody tr th:only-of-type {\n",
              "        vertical-align: middle;\n",
              "    }\n",
              "\n",
              "    .dataframe tbody tr th {\n",
              "        vertical-align: top;\n",
              "    }\n",
              "\n",
              "    .dataframe thead th {\n",
              "        text-align: right;\n",
              "    }\n",
              "</style>\n",
              "<table border=\"1\" class=\"dataframe\">\n",
              "  <thead>\n",
              "    <tr style=\"text-align: right;\">\n",
              "      <th></th>\n",
              "      <th>Id</th>\n",
              "      <th>ProductId</th>\n",
              "      <th>UserId</th>\n",
              "      <th>ProfileName</th>\n",
              "      <th>HelpfulnessNumerator</th>\n",
              "      <th>HelpfulnessDenominator</th>\n",
              "      <th>Score</th>\n",
              "      <th>Time</th>\n",
              "      <th>Summary</th>\n",
              "      <th>Text</th>\n",
              "    </tr>\n",
              "  </thead>\n",
              "  <tbody>\n",
              "    <tr>\n",
              "      <th>0</th>\n",
              "      <td>1</td>\n",
              "      <td>B001E4KFG0</td>\n",
              "      <td>A3SGXH7AUHU8GW</td>\n",
              "      <td>delmartian</td>\n",
              "      <td>1</td>\n",
              "      <td>1</td>\n",
              "      <td>1</td>\n",
              "      <td>1303862400</td>\n",
              "      <td>Good Quality Dog Food</td>\n",
              "      <td>I have bought several of the Vitality canned d...</td>\n",
              "    </tr>\n",
              "    <tr>\n",
              "      <th>1</th>\n",
              "      <td>2</td>\n",
              "      <td>B00813GRG4</td>\n",
              "      <td>A1D87F6ZCVE5NK</td>\n",
              "      <td>dll pa</td>\n",
              "      <td>0</td>\n",
              "      <td>0</td>\n",
              "      <td>0</td>\n",
              "      <td>1346976000</td>\n",
              "      <td>Not as Advertised</td>\n",
              "      <td>Product arrived labeled as Jumbo Salted Peanut...</td>\n",
              "    </tr>\n",
              "    <tr>\n",
              "      <th>2</th>\n",
              "      <td>3</td>\n",
              "      <td>B000LQOCH0</td>\n",
              "      <td>ABXLMWJIXXAIN</td>\n",
              "      <td>Natalia Corres \"Natalia Corres\"</td>\n",
              "      <td>1</td>\n",
              "      <td>1</td>\n",
              "      <td>1</td>\n",
              "      <td>1219017600</td>\n",
              "      <td>\"Delight\" says it all</td>\n",
              "      <td>This is a confection that has been around a fe...</td>\n",
              "    </tr>\n",
              "  </tbody>\n",
              "</table>\n",
              "</div>"
            ],
            "text/plain": [
              "   Id  ...                                               Text\n",
              "0   1  ...  I have bought several of the Vitality canned d...\n",
              "1   2  ...  Product arrived labeled as Jumbo Salted Peanut...\n",
              "2   3  ...  This is a confection that has been around a fe...\n",
              "\n",
              "[3 rows x 10 columns]"
            ]
          },
          "metadata": {
            "tags": []
          },
          "execution_count": 3
        }
      ]
    },
    {
      "cell_type": "code",
      "metadata": {
        "id": "f34vIYWxLs2h"
      },
      "source": [
        "display = pd.read_sql_query(\"\"\"\n",
        "SELECT UserId, ProductId, ProfileName, Time, Score, Text, COUNT(*)\n",
        "FROM Reviews\n",
        "GROUP BY UserId\n",
        "HAVING COUNT(*)>1\n",
        "\"\"\", con)"
      ],
      "execution_count": null,
      "outputs": []
    },
    {
      "cell_type": "code",
      "metadata": {
        "id": "sooYlfVTLs2l",
        "scrolled": true,
        "colab": {
          "base_uri": "https://localhost:8080/",
          "height": 212
        },
        "outputId": "03d472a6-a477-4b12-9476-220b5a8dcc5f"
      },
      "source": [
        "print(display.shape)\n",
        "display.head()"
      ],
      "execution_count": null,
      "outputs": [
        {
          "output_type": "stream",
          "text": [
            "(80668, 7)\n"
          ],
          "name": "stdout"
        },
        {
          "output_type": "execute_result",
          "data": {
            "text/html": [
              "<div>\n",
              "<style scoped>\n",
              "    .dataframe tbody tr th:only-of-type {\n",
              "        vertical-align: middle;\n",
              "    }\n",
              "\n",
              "    .dataframe tbody tr th {\n",
              "        vertical-align: top;\n",
              "    }\n",
              "\n",
              "    .dataframe thead th {\n",
              "        text-align: right;\n",
              "    }\n",
              "</style>\n",
              "<table border=\"1\" class=\"dataframe\">\n",
              "  <thead>\n",
              "    <tr style=\"text-align: right;\">\n",
              "      <th></th>\n",
              "      <th>UserId</th>\n",
              "      <th>ProductId</th>\n",
              "      <th>ProfileName</th>\n",
              "      <th>Time</th>\n",
              "      <th>Score</th>\n",
              "      <th>Text</th>\n",
              "      <th>COUNT(*)</th>\n",
              "    </tr>\n",
              "  </thead>\n",
              "  <tbody>\n",
              "    <tr>\n",
              "      <th>0</th>\n",
              "      <td>#oc-R115TNMSPFT9I7</td>\n",
              "      <td>B007Y59HVM</td>\n",
              "      <td>Breyton</td>\n",
              "      <td>1331510400</td>\n",
              "      <td>2</td>\n",
              "      <td>Overall its just OK when considering the price...</td>\n",
              "      <td>2</td>\n",
              "    </tr>\n",
              "    <tr>\n",
              "      <th>1</th>\n",
              "      <td>#oc-R11D9D7SHXIJB9</td>\n",
              "      <td>B005HG9ET0</td>\n",
              "      <td>Louis E. Emory \"hoppy\"</td>\n",
              "      <td>1342396800</td>\n",
              "      <td>5</td>\n",
              "      <td>My wife has recurring extreme muscle spasms, u...</td>\n",
              "      <td>3</td>\n",
              "    </tr>\n",
              "    <tr>\n",
              "      <th>2</th>\n",
              "      <td>#oc-R11DNU2NBKQ23Z</td>\n",
              "      <td>B007Y59HVM</td>\n",
              "      <td>Kim Cieszykowski</td>\n",
              "      <td>1348531200</td>\n",
              "      <td>1</td>\n",
              "      <td>This coffee is horrible and unfortunately not ...</td>\n",
              "      <td>2</td>\n",
              "    </tr>\n",
              "    <tr>\n",
              "      <th>3</th>\n",
              "      <td>#oc-R11O5J5ZVQE25C</td>\n",
              "      <td>B005HG9ET0</td>\n",
              "      <td>Penguin Chick</td>\n",
              "      <td>1346889600</td>\n",
              "      <td>5</td>\n",
              "      <td>This will be the bottle that you grab from the...</td>\n",
              "      <td>3</td>\n",
              "    </tr>\n",
              "    <tr>\n",
              "      <th>4</th>\n",
              "      <td>#oc-R12KPBODL2B5ZD</td>\n",
              "      <td>B007OSBE1U</td>\n",
              "      <td>Christopher P. Presta</td>\n",
              "      <td>1348617600</td>\n",
              "      <td>1</td>\n",
              "      <td>I didnt like this coffee. Instead of telling y...</td>\n",
              "      <td>2</td>\n",
              "    </tr>\n",
              "  </tbody>\n",
              "</table>\n",
              "</div>"
            ],
            "text/plain": [
              "               UserId  ... COUNT(*)\n",
              "0  #oc-R115TNMSPFT9I7  ...        2\n",
              "1  #oc-R11D9D7SHXIJB9  ...        3\n",
              "2  #oc-R11DNU2NBKQ23Z  ...        2\n",
              "3  #oc-R11O5J5ZVQE25C  ...        3\n",
              "4  #oc-R12KPBODL2B5ZD  ...        2\n",
              "\n",
              "[5 rows x 7 columns]"
            ]
          },
          "metadata": {
            "tags": []
          },
          "execution_count": 5
        }
      ]
    },
    {
      "cell_type": "code",
      "metadata": {
        "id": "OaLh-iUnLs2q",
        "colab": {
          "base_uri": "https://localhost:8080/",
          "height": 77
        },
        "outputId": "2e8e1d77-5ab6-4ead-cf24-540a322dba68"
      },
      "source": [
        "display[display['UserId']=='AZY10LLTJ71NX']"
      ],
      "execution_count": null,
      "outputs": [
        {
          "output_type": "execute_result",
          "data": {
            "text/html": [
              "<div>\n",
              "<style scoped>\n",
              "    .dataframe tbody tr th:only-of-type {\n",
              "        vertical-align: middle;\n",
              "    }\n",
              "\n",
              "    .dataframe tbody tr th {\n",
              "        vertical-align: top;\n",
              "    }\n",
              "\n",
              "    .dataframe thead th {\n",
              "        text-align: right;\n",
              "    }\n",
              "</style>\n",
              "<table border=\"1\" class=\"dataframe\">\n",
              "  <thead>\n",
              "    <tr style=\"text-align: right;\">\n",
              "      <th></th>\n",
              "      <th>UserId</th>\n",
              "      <th>ProductId</th>\n",
              "      <th>ProfileName</th>\n",
              "      <th>Time</th>\n",
              "      <th>Score</th>\n",
              "      <th>Text</th>\n",
              "      <th>COUNT(*)</th>\n",
              "    </tr>\n",
              "  </thead>\n",
              "  <tbody>\n",
              "    <tr>\n",
              "      <th>80638</th>\n",
              "      <td>AZY10LLTJ71NX</td>\n",
              "      <td>B006P7E5ZI</td>\n",
              "      <td>undertheshrine \"undertheshrine\"</td>\n",
              "      <td>1334707200</td>\n",
              "      <td>5</td>\n",
              "      <td>I was recommended to try green tea extract to ...</td>\n",
              "      <td>5</td>\n",
              "    </tr>\n",
              "  </tbody>\n",
              "</table>\n",
              "</div>"
            ],
            "text/plain": [
              "              UserId  ... COUNT(*)\n",
              "80638  AZY10LLTJ71NX  ...        5\n",
              "\n",
              "[1 rows x 7 columns]"
            ]
          },
          "metadata": {
            "tags": []
          },
          "execution_count": 6
        }
      ]
    },
    {
      "cell_type": "code",
      "metadata": {
        "id": "fLyKXfnVLs2v",
        "colab": {
          "base_uri": "https://localhost:8080/",
          "height": 34
        },
        "outputId": "c4a530f1-8037-4328-cca0-b5776315a726"
      },
      "source": [
        "display['COUNT(*)'].sum()"
      ],
      "execution_count": null,
      "outputs": [
        {
          "output_type": "execute_result",
          "data": {
            "text/plain": [
              "393063"
            ]
          },
          "metadata": {
            "tags": []
          },
          "execution_count": 7
        }
      ]
    },
    {
      "cell_type": "markdown",
      "metadata": {
        "id": "BjI7UhwyLs2z"
      },
      "source": [
        "# <a id='2'>2. Exploratory Data Analysis </a>"
      ]
    },
    {
      "cell_type": "markdown",
      "metadata": {
        "id": "QlozktDwLs2z"
      },
      "source": [
        "### <a id='21'>2.1 Data Cleaning: Deduplication </a>\n",
        "\n",
        "It is observed (as shown in the table below) that the reviews data had many duplicate entries. Hence, it was necessary to remove duplicates in order to get unbiased results for the analysis of the data.  Following is an example:"
      ]
    },
    {
      "cell_type": "code",
      "metadata": {
        "id": "dK8j675XLs20",
        "scrolled": false,
        "colab": {
          "base_uri": "https://localhost:8080/",
          "height": 279
        },
        "outputId": "209486cd-7f17-4e12-9871-e443590da12e"
      },
      "source": [
        "display= pd.read_sql_query(\"\"\"\n",
        "SELECT *\n",
        "FROM Reviews\n",
        "WHERE Score != 3 AND UserId=\"AR5J8UI46CURR\"\n",
        "ORDER BY ProductID\n",
        "\"\"\", con)\n",
        "display.head()"
      ],
      "execution_count": null,
      "outputs": [
        {
          "output_type": "execute_result",
          "data": {
            "text/html": [
              "<div>\n",
              "<style scoped>\n",
              "    .dataframe tbody tr th:only-of-type {\n",
              "        vertical-align: middle;\n",
              "    }\n",
              "\n",
              "    .dataframe tbody tr th {\n",
              "        vertical-align: top;\n",
              "    }\n",
              "\n",
              "    .dataframe thead th {\n",
              "        text-align: right;\n",
              "    }\n",
              "</style>\n",
              "<table border=\"1\" class=\"dataframe\">\n",
              "  <thead>\n",
              "    <tr style=\"text-align: right;\">\n",
              "      <th></th>\n",
              "      <th>Id</th>\n",
              "      <th>ProductId</th>\n",
              "      <th>UserId</th>\n",
              "      <th>ProfileName</th>\n",
              "      <th>HelpfulnessNumerator</th>\n",
              "      <th>HelpfulnessDenominator</th>\n",
              "      <th>Score</th>\n",
              "      <th>Time</th>\n",
              "      <th>Summary</th>\n",
              "      <th>Text</th>\n",
              "    </tr>\n",
              "  </thead>\n",
              "  <tbody>\n",
              "    <tr>\n",
              "      <th>0</th>\n",
              "      <td>78445</td>\n",
              "      <td>B000HDL1RQ</td>\n",
              "      <td>AR5J8UI46CURR</td>\n",
              "      <td>Geetha Krishnan</td>\n",
              "      <td>2</td>\n",
              "      <td>2</td>\n",
              "      <td>5</td>\n",
              "      <td>1199577600</td>\n",
              "      <td>LOACKER QUADRATINI VANILLA WAFERS</td>\n",
              "      <td>DELICIOUS WAFERS. I FIND THAT EUROPEAN WAFERS ...</td>\n",
              "    </tr>\n",
              "    <tr>\n",
              "      <th>1</th>\n",
              "      <td>138317</td>\n",
              "      <td>B000HDOPYC</td>\n",
              "      <td>AR5J8UI46CURR</td>\n",
              "      <td>Geetha Krishnan</td>\n",
              "      <td>2</td>\n",
              "      <td>2</td>\n",
              "      <td>5</td>\n",
              "      <td>1199577600</td>\n",
              "      <td>LOACKER QUADRATINI VANILLA WAFERS</td>\n",
              "      <td>DELICIOUS WAFERS. I FIND THAT EUROPEAN WAFERS ...</td>\n",
              "    </tr>\n",
              "    <tr>\n",
              "      <th>2</th>\n",
              "      <td>138277</td>\n",
              "      <td>B000HDOPYM</td>\n",
              "      <td>AR5J8UI46CURR</td>\n",
              "      <td>Geetha Krishnan</td>\n",
              "      <td>2</td>\n",
              "      <td>2</td>\n",
              "      <td>5</td>\n",
              "      <td>1199577600</td>\n",
              "      <td>LOACKER QUADRATINI VANILLA WAFERS</td>\n",
              "      <td>DELICIOUS WAFERS. I FIND THAT EUROPEAN WAFERS ...</td>\n",
              "    </tr>\n",
              "    <tr>\n",
              "      <th>3</th>\n",
              "      <td>73791</td>\n",
              "      <td>B000HDOPZG</td>\n",
              "      <td>AR5J8UI46CURR</td>\n",
              "      <td>Geetha Krishnan</td>\n",
              "      <td>2</td>\n",
              "      <td>2</td>\n",
              "      <td>5</td>\n",
              "      <td>1199577600</td>\n",
              "      <td>LOACKER QUADRATINI VANILLA WAFERS</td>\n",
              "      <td>DELICIOUS WAFERS. I FIND THAT EUROPEAN WAFERS ...</td>\n",
              "    </tr>\n",
              "    <tr>\n",
              "      <th>4</th>\n",
              "      <td>155049</td>\n",
              "      <td>B000PAQ75C</td>\n",
              "      <td>AR5J8UI46CURR</td>\n",
              "      <td>Geetha Krishnan</td>\n",
              "      <td>2</td>\n",
              "      <td>2</td>\n",
              "      <td>5</td>\n",
              "      <td>1199577600</td>\n",
              "      <td>LOACKER QUADRATINI VANILLA WAFERS</td>\n",
              "      <td>DELICIOUS WAFERS. I FIND THAT EUROPEAN WAFERS ...</td>\n",
              "    </tr>\n",
              "  </tbody>\n",
              "</table>\n",
              "</div>"
            ],
            "text/plain": [
              "       Id  ...                                               Text\n",
              "0   78445  ...  DELICIOUS WAFERS. I FIND THAT EUROPEAN WAFERS ...\n",
              "1  138317  ...  DELICIOUS WAFERS. I FIND THAT EUROPEAN WAFERS ...\n",
              "2  138277  ...  DELICIOUS WAFERS. I FIND THAT EUROPEAN WAFERS ...\n",
              "3   73791  ...  DELICIOUS WAFERS. I FIND THAT EUROPEAN WAFERS ...\n",
              "4  155049  ...  DELICIOUS WAFERS. I FIND THAT EUROPEAN WAFERS ...\n",
              "\n",
              "[5 rows x 10 columns]"
            ]
          },
          "metadata": {
            "tags": []
          },
          "execution_count": 8
        }
      ]
    },
    {
      "cell_type": "markdown",
      "metadata": {
        "id": "W6YkD2fDLs24"
      },
      "source": [
        "As it can be seen from above that same user has multiple reviews with same values for HelpfulnessNumerator, HelpfulnessDenominator, Score, Time, Summary and Text and on doing analysis it was found that <br>\n",
        "<br> \n",
        "ProductId=B000HDOPZG was Loacker Quadratini Vanilla Wafer Cookies, 8.82-Ounce Packages (Pack of 8)<br>\n",
        "<br> \n",
        "ProductId=B000HDL1RQ was Loacker Quadratini Lemon Wafer Cookies, 8.82-Ounce Packages (Pack of 8) and so on<br>\n",
        "\n",
        "It was inferred after analysis that reviews with same the parameters other than ProductId belonged to the same product ,just having different flavour or quantity. Hence, in order to reduce redundancy it was decided to eliminate the rows having same parameters.<br>\n",
        "\n",
        "The method used for the same was that we first sort the data according to ProductId and then just keep the first similar product review and delelte the others. for eg. in the above just the review for ProductId=B000HDL1RQ remains. This method ensures that there is only one representative for each product and deduplication without sorting would lead to possibility of different representatives still existing for the same product."
      ]
    },
    {
      "cell_type": "code",
      "metadata": {
        "id": "8rpzjZrcLs25"
      },
      "source": [
        "#Sorting data according to ProductId in ascending order\n",
        "sorted_data=filtered_data.sort_values('ProductId', axis=0, ascending=True, inplace=False, kind='quicksort', na_position='last')"
      ],
      "execution_count": null,
      "outputs": []
    },
    {
      "cell_type": "code",
      "metadata": {
        "id": "GG2mo2kJLs27",
        "colab": {
          "base_uri": "https://localhost:8080/",
          "height": 34
        },
        "outputId": "4b5cc4a8-6962-47c1-bf65-81bbd2956381"
      },
      "source": [
        "#Deduplication of entries\n",
        "final=sorted_data.drop_duplicates(subset={\"UserId\",\"ProfileName\",\"Time\",\"Text\"}, keep='first', inplace=False)\n",
        "final.shape"
      ],
      "execution_count": null,
      "outputs": [
        {
          "output_type": "execute_result",
          "data": {
            "text/plain": [
              "(87775, 10)"
            ]
          },
          "metadata": {
            "tags": []
          },
          "execution_count": 10
        }
      ]
    },
    {
      "cell_type": "code",
      "metadata": {
        "id": "uoQVhiaSLs2_",
        "colab": {
          "base_uri": "https://localhost:8080/",
          "height": 34
        },
        "outputId": "76a3c8ff-6286-48a5-afea-45824ec76b37"
      },
      "source": [
        "#Checking to see how much % of data still remains\n",
        "(final['Id'].size*1.0)/(filtered_data['Id'].size*1.0)*100"
      ],
      "execution_count": null,
      "outputs": [
        {
          "output_type": "execute_result",
          "data": {
            "text/plain": [
              "87.775"
            ]
          },
          "metadata": {
            "tags": []
          },
          "execution_count": 11
        }
      ]
    },
    {
      "cell_type": "markdown",
      "metadata": {
        "id": "awi7B0KOLs3B"
      },
      "source": [
        "<b>Observation:-</b> It was also seen that in two rows given below the value of HelpfulnessNumerator is greater than HelpfulnessDenominator which is not practically possible hence these two rows too are removed from calcualtions"
      ]
    },
    {
      "cell_type": "code",
      "metadata": {
        "id": "8VYQqYWZLs3C",
        "colab": {
          "base_uri": "https://localhost:8080/",
          "height": 140
        },
        "outputId": "9d163a79-86f1-4abf-b555-de5cc6209b60"
      },
      "source": [
        "display= pd.read_sql_query(\"\"\"\n",
        "SELECT *\n",
        "FROM Reviews\n",
        "WHERE Score != 3 AND Id=44737 OR Id=64422\n",
        "ORDER BY ProductID\n",
        "\"\"\", con)\n",
        "\n",
        "display.head()"
      ],
      "execution_count": null,
      "outputs": [
        {
          "output_type": "execute_result",
          "data": {
            "text/html": [
              "<div>\n",
              "<style scoped>\n",
              "    .dataframe tbody tr th:only-of-type {\n",
              "        vertical-align: middle;\n",
              "    }\n",
              "\n",
              "    .dataframe tbody tr th {\n",
              "        vertical-align: top;\n",
              "    }\n",
              "\n",
              "    .dataframe thead th {\n",
              "        text-align: right;\n",
              "    }\n",
              "</style>\n",
              "<table border=\"1\" class=\"dataframe\">\n",
              "  <thead>\n",
              "    <tr style=\"text-align: right;\">\n",
              "      <th></th>\n",
              "      <th>Id</th>\n",
              "      <th>ProductId</th>\n",
              "      <th>UserId</th>\n",
              "      <th>ProfileName</th>\n",
              "      <th>HelpfulnessNumerator</th>\n",
              "      <th>HelpfulnessDenominator</th>\n",
              "      <th>Score</th>\n",
              "      <th>Time</th>\n",
              "      <th>Summary</th>\n",
              "      <th>Text</th>\n",
              "    </tr>\n",
              "  </thead>\n",
              "  <tbody>\n",
              "    <tr>\n",
              "      <th>0</th>\n",
              "      <td>64422</td>\n",
              "      <td>B000MIDROQ</td>\n",
              "      <td>A161DK06JJMCYF</td>\n",
              "      <td>J. E. Stephens \"Jeanne\"</td>\n",
              "      <td>3</td>\n",
              "      <td>1</td>\n",
              "      <td>5</td>\n",
              "      <td>1224892800</td>\n",
              "      <td>Bought This for My Son at College</td>\n",
              "      <td>My son loves spaghetti so I didn't hesitate or...</td>\n",
              "    </tr>\n",
              "    <tr>\n",
              "      <th>1</th>\n",
              "      <td>44737</td>\n",
              "      <td>B001EQ55RW</td>\n",
              "      <td>A2V0I904FH7ABY</td>\n",
              "      <td>Ram</td>\n",
              "      <td>3</td>\n",
              "      <td>2</td>\n",
              "      <td>4</td>\n",
              "      <td>1212883200</td>\n",
              "      <td>Pure cocoa taste with crunchy almonds inside</td>\n",
              "      <td>It was almost a 'love at first bite' - the per...</td>\n",
              "    </tr>\n",
              "  </tbody>\n",
              "</table>\n",
              "</div>"
            ],
            "text/plain": [
              "      Id  ...                                               Text\n",
              "0  64422  ...  My son loves spaghetti so I didn't hesitate or...\n",
              "1  44737  ...  It was almost a 'love at first bite' - the per...\n",
              "\n",
              "[2 rows x 10 columns]"
            ]
          },
          "metadata": {
            "tags": []
          },
          "execution_count": 12
        }
      ]
    },
    {
      "cell_type": "code",
      "metadata": {
        "id": "SJAmuBWvLs3F"
      },
      "source": [
        "final=final[final.HelpfulnessNumerator<=final.HelpfulnessDenominator]"
      ],
      "execution_count": null,
      "outputs": []
    },
    {
      "cell_type": "code",
      "metadata": {
        "id": "VRMt0ylrLs3H",
        "colab": {
          "base_uri": "https://localhost:8080/",
          "height": 84
        },
        "outputId": "8ea96263-cd08-4e1c-da5b-df2e64ca5a4d"
      },
      "source": [
        "#Before starting the next phase of preprocessing lets see the number of entries left\n",
        "print(final.shape)\n",
        "\n",
        "#How many positive and negative reviews are present in our dataset?\n",
        "final['Score'].value_counts()"
      ],
      "execution_count": null,
      "outputs": [
        {
          "output_type": "stream",
          "text": [
            "(87773, 10)\n"
          ],
          "name": "stdout"
        },
        {
          "output_type": "execute_result",
          "data": {
            "text/plain": [
              "1    73592\n",
              "0    14181\n",
              "Name: Score, dtype: int64"
            ]
          },
          "metadata": {
            "tags": []
          },
          "execution_count": 14
        }
      ]
    },
    {
      "cell_type": "markdown",
      "metadata": {
        "id": "WNlQvs_7Ls3K"
      },
      "source": [
        "# <a id='3'>3. Preprocessing </a>"
      ]
    },
    {
      "cell_type": "markdown",
      "metadata": {
        "id": "npX1fB5WuNly"
      },
      "source": [
        "### <a id='31'> 3.1. Preprocessing Review Text </a>"
      ]
    },
    {
      "cell_type": "markdown",
      "metadata": {
        "id": "1zx3OJ8aLs3L"
      },
      "source": [
        "Now that we have finished deduplication, our data requires some preprocessing before we go on further with analysis and making the prediction model.\n",
        "\n",
        "Hence, in the preprocessing phase we do the following in the order below:-\n",
        "\n",
        "1. Begin by removing the html tags\n",
        "2. Remove any punctuations or limited set of special characters like , or . or # etc.\n",
        "3. Check if the word is made up of english letters and is not alpha-numeric\n",
        "4. Check to see if the length of the word is greater than 2 (as it was researched that there is no adjective in 2-letters)\n",
        "5. Convert the word to lowercase\n",
        "6. Remove Stopwords\n",
        "7. Finally Snowball Stemming the word (it was obsereved to be better than Porter Stemming)<br>\n",
        "\n",
        "After which we collect the words used to describe positive and negative reviews"
      ]
    },
    {
      "cell_type": "code",
      "metadata": {
        "id": "bBXkkhcmLs3L",
        "colab": {
          "base_uri": "https://localhost:8080/",
          "height": 171
        },
        "outputId": "5a9f6c36-1633-4acb-e654-5b697339180e"
      },
      "source": [
        "# printing some random reviews\n",
        "sent_0 = final['Text'].values[0]\n",
        "print(sent_0)\n",
        "print(\"=\"*50)\n",
        "\n",
        "sent_1000 = final['Text'].values[1000]\n",
        "print(sent_1000)\n",
        "print(\"=\"*50)\n",
        "\n",
        "sent_1500 = final['Text'].values[1500]\n",
        "print(sent_1500)\n",
        "print(\"=\"*50)\n",
        "\n",
        "sent_4900 = final['Text'].values[4900]\n",
        "print(sent_4900)\n",
        "print(\"=\"*50)"
      ],
      "execution_count": null,
      "outputs": [
        {
          "output_type": "stream",
          "text": [
            "My dogs loves this chicken but its a product from China, so we wont be buying it anymore.  Its very hard to find any chicken products made in the USA but they are out there, but this one isnt.  Its too bad too because its a good product but I wont take any chances till they know what is going on with the china imports.\n",
            "==================================================\n",
            "The Candy Blocks were a nice visual for the Lego Birthday party but the candy has little taste to it.  Very little of the 2 lbs that I bought were eaten and I threw the rest away.  I would not buy the candy again.\n",
            "==================================================\n",
            "was way to hot for my blood, took a bite and did a jig  lol\n",
            "==================================================\n",
            "My dog LOVES these treats. They tend to have a very strong fish oil smell. So if you are afraid of the fishy smell, don't get it. But I think my dog likes it because of the smell. These treats are really small in size. They are great for training. You can give your dog several of these without worrying about him over eating. Amazon's price was much more reasonable than any other retailer. You can buy a 1 pound bag on Amazon for almost the same price as a 6 ounce bag at other retailers. It's definitely worth it to buy a big bag if your dog eats them a lot.\n",
            "==================================================\n"
          ],
          "name": "stdout"
        }
      ]
    },
    {
      "cell_type": "code",
      "metadata": {
        "id": "EP3seCPkLs3O",
        "colab": {
          "base_uri": "https://localhost:8080/",
          "height": 54
        },
        "outputId": "4406f526-ddee-4c81-fea8-6b5dc247dd6c"
      },
      "source": [
        "# remove urls from text python: https://stackoverflow.com/a/40823105/4084039\n",
        "sent_0 = re.sub(r\"http\\S+\", \"\", sent_0)\n",
        "sent_1000 = re.sub(r\"http\\S+\", \"\", sent_1000)\n",
        "sent_150 = re.sub(r\"http\\S+\", \"\", sent_1500)\n",
        "sent_4900 = re.sub(r\"http\\S+\", \"\", sent_4900)\n",
        "\n",
        "print(sent_0)"
      ],
      "execution_count": null,
      "outputs": [
        {
          "output_type": "stream",
          "text": [
            "My dogs loves this chicken but its a product from China, so we wont be buying it anymore.  Its very hard to find any chicken products made in the USA but they are out there, but this one isnt.  Its too bad too because its a good product but I wont take any chances till they know what is going on with the china imports.\n"
          ],
          "name": "stdout"
        }
      ]
    },
    {
      "cell_type": "code",
      "metadata": {
        "id": "kd57esPGLs3R",
        "colab": {
          "base_uri": "https://localhost:8080/",
          "height": 154
        },
        "outputId": "9743d25a-756b-463f-830c-a35604d063d0"
      },
      "source": [
        "# remove-all-tags-from-an-element: https://stackoverflow.com/questions/16206380/python-beautifulsoup-how-to-remove-all-tags-from-an-element\n",
        "from bs4 import BeautifulSoup\n",
        "\n",
        "soup = BeautifulSoup(sent_0, 'lxml')\n",
        "text = soup.get_text()\n",
        "print(text)\n",
        "print(\"=\"*50)\n",
        "\n",
        "soup = BeautifulSoup(sent_1000, 'lxml')\n",
        "text = soup.get_text()\n",
        "print(text)\n",
        "print(\"=\"*50)\n",
        "\n",
        "soup = BeautifulSoup(sent_1500, 'lxml')\n",
        "text = soup.get_text()\n",
        "print(text)\n",
        "print(\"=\"*50)\n",
        "\n",
        "soup = BeautifulSoup(sent_4900, 'lxml')\n",
        "text = soup.get_text()\n",
        "print(text)"
      ],
      "execution_count": null,
      "outputs": [
        {
          "output_type": "stream",
          "text": [
            "My dogs loves this chicken but its a product from China, so we wont be buying it anymore.  Its very hard to find any chicken products made in the USA but they are out there, but this one isnt.  Its too bad too because its a good product but I wont take any chances till they know what is going on with the china imports.\n",
            "==================================================\n",
            "The Candy Blocks were a nice visual for the Lego Birthday party but the candy has little taste to it.  Very little of the 2 lbs that I bought were eaten and I threw the rest away.  I would not buy the candy again.\n",
            "==================================================\n",
            "was way to hot for my blood, took a bite and did a jig  lol\n",
            "==================================================\n",
            "My dog LOVES these treats. They tend to have a very strong fish oil smell. So if you are afraid of the fishy smell, don't get it. But I think my dog likes it because of the smell. These treats are really small in size. They are great for training. You can give your dog several of these without worrying about him over eating. Amazon's price was much more reasonable than any other retailer. You can buy a 1 pound bag on Amazon for almost the same price as a 6 ounce bag at other retailers. It's definitely worth it to buy a big bag if your dog eats them a lot.\n"
          ],
          "name": "stdout"
        }
      ]
    },
    {
      "cell_type": "code",
      "metadata": {
        "id": "nq-jyIK_Ls3U"
      },
      "source": [
        "# Expanding english language contractions:  https://stackoverflow.com/a/47091490/4084039\n",
        "import re\n",
        "\n",
        "def decontracted(phrase):\n",
        "    # specific\n",
        "    phrase = re.sub(r\"won't\", \"will not\", phrase)\n",
        "    phrase = re.sub(r\"can\\'t\", \"can not\", phrase)\n",
        "\n",
        "    # general\n",
        "    phrase = re.sub(r\"n\\'t\", \" not\", phrase)\n",
        "    phrase = re.sub(r\"\\'re\", \" are\", phrase)\n",
        "    phrase = re.sub(r\"\\'s\", \" is\", phrase)\n",
        "    phrase = re.sub(r\"\\'d\", \" would\", phrase)\n",
        "    phrase = re.sub(r\"\\'ll\", \" will\", phrase)\n",
        "    phrase = re.sub(r\"\\'t\", \" not\", phrase)\n",
        "    phrase = re.sub(r\"\\'ve\", \" have\", phrase)\n",
        "    phrase = re.sub(r\"\\'m\", \" am\", phrase)\n",
        "    return phrase"
      ],
      "execution_count": null,
      "outputs": []
    },
    {
      "cell_type": "code",
      "metadata": {
        "id": "1ksQ9iEhLs3W",
        "colab": {
          "base_uri": "https://localhost:8080/",
          "height": 50
        },
        "outputId": "f34f308d-a1cb-4739-8360-ccea4cc2fe8e"
      },
      "source": [
        "sent_1500 = decontracted(sent_1500)\n",
        "print(sent_1500)\n",
        "print(\"=\"*50)"
      ],
      "execution_count": null,
      "outputs": [
        {
          "output_type": "stream",
          "text": [
            "was way to hot for my blood, took a bite and did a jig  lol\n",
            "==================================================\n"
          ],
          "name": "stdout"
        }
      ]
    },
    {
      "cell_type": "code",
      "metadata": {
        "id": "10xZf0J9Ls3Z",
        "colab": {
          "base_uri": "https://localhost:8080/",
          "height": 54
        },
        "outputId": "8410e709-5b99-4b96-a37c-96b4bc3a190e"
      },
      "source": [
        "#remove words with numbers python: https://stackoverflow.com/a/18082370/4084039\n",
        "sent_0 = re.sub(\"\\S*\\d\\S*\", \"\", sent_0).strip()\n",
        "print(sent_0)"
      ],
      "execution_count": null,
      "outputs": [
        {
          "output_type": "stream",
          "text": [
            "My dogs loves this chicken but its a product from China, so we wont be buying it anymore.  Its very hard to find any chicken products made in the USA but they are out there, but this one isnt.  Its too bad too because its a good product but I wont take any chances till they know what is going on with the china imports.\n"
          ],
          "name": "stdout"
        }
      ]
    },
    {
      "cell_type": "code",
      "metadata": {
        "id": "YeJklswfLs3b",
        "colab": {
          "base_uri": "https://localhost:8080/",
          "height": 34
        },
        "outputId": "2e82156c-aa18-4739-db3d-5348dcbdbf01"
      },
      "source": [
        "#remove spacial character: https://stackoverflow.com/a/5843547/4084039\n",
        "sent_1500 = re.sub('[^A-Za-z0-9]+', ' ', sent_1500)\n",
        "print(sent_1500)"
      ],
      "execution_count": null,
      "outputs": [
        {
          "output_type": "stream",
          "text": [
            "was way to hot for my blood took a bite and did a jig lol\n"
          ],
          "name": "stdout"
        }
      ]
    },
    {
      "cell_type": "code",
      "metadata": {
        "id": "wlrQNxciLs3e"
      },
      "source": [
        "# https://gist.github.com/sebleier/554280\n",
        "# we are removing the words from the stop words list: 'no', 'nor', 'not'\n",
        "# <br /><br /> ==> after the above steps, we are getting \"br br\"\n",
        "# we are including them into stop words list\n",
        "# instead of <br /> if we have <br/> these tags would have revmoved in the 1st step\n",
        "\n",
        "stopwords= set(['br', 'the', 'i', 'me', 'my', 'myself', 'we', 'our', 'ours', 'ourselves', 'you', \"you're\", \"you've\",\\\n",
        "            \"you'll\", \"you'd\", 'your', 'yours', 'yourself', 'yourselves', 'he', 'him', 'his', 'himself', \\\n",
        "            'she', \"she's\", 'her', 'hers', 'herself', 'it', \"it's\", 'its', 'itself', 'they', 'them', 'their',\\\n",
        "            'theirs', 'themselves', 'what', 'which', 'who', 'whom', 'this', 'that', \"that'll\", 'these', 'those', \\\n",
        "            'am', 'is', 'are', 'was', 'were', 'be', 'been', 'being', 'have', 'has', 'had', 'having', 'do', 'does', \\\n",
        "            'did', 'doing', 'a', 'an', 'the', 'and', 'but', 'if', 'or', 'because', 'as', 'until', 'while', 'of', \\\n",
        "            'at', 'by', 'for', 'with', 'about', 'against', 'between', 'into', 'through', 'during', 'before', 'after',\\\n",
        "            'above', 'below', 'to', 'from', 'up', 'down', 'in', 'out', 'on', 'off', 'over', 'under', 'again', 'further',\\\n",
        "            'then', 'once', 'here', 'there', 'when', 'where', 'why', 'how', 'all', 'any', 'both', 'each', 'few', 'more',\\\n",
        "            'most', 'other', 'some', 'such', 'only', 'own', 'same', 'so', 'than', 'too', 'very', \\\n",
        "            's', 't', 'can', 'will', 'just', 'don', \"don't\", 'should', \"should've\", 'now', 'd', 'll', 'm', 'o', 're', \\\n",
        "            've', 'y', 'ain', 'aren', \"aren't\", 'couldn', \"couldn't\", 'didn', \"didn't\", 'doesn', \"doesn't\", 'hadn',\\\n",
        "            \"hadn't\", 'hasn', \"hasn't\", 'haven', \"haven't\", 'isn', \"isn't\", 'ma', 'mightn', \"mightn't\", 'mustn',\\\n",
        "            \"mustn't\", 'needn', \"needn't\", 'shan', \"shan't\", 'shouldn', \"shouldn't\", 'wasn', \"wasn't\", 'weren', \"weren't\", \\\n",
        "            'won', \"won't\", 'wouldn', \"wouldn't\"])"
      ],
      "execution_count": null,
      "outputs": []
    },
    {
      "cell_type": "code",
      "metadata": {
        "id": "s2mq5lM2Ls3g",
        "colab": {
          "base_uri": "https://localhost:8080/",
          "height": 34
        },
        "outputId": "7b166675-d315-48f4-aeb0-24e98d5c9bdf"
      },
      "source": [
        "# Combining all the above stundents \n",
        "from tqdm import tqdm\n",
        "preprocessed_reviews = []\n",
        "# tqdm is for printing the status bar\n",
        "for sentance in tqdm(final['Text'].values):\n",
        "    sentance = re.sub(r\"http\\S+\", \"\", sentance)\n",
        "    sentance = BeautifulSoup(sentance, 'lxml').get_text()\n",
        "    sentance = decontracted(sentance)\n",
        "    sentance = re.sub(\"\\S*\\d\\S*\", \"\", sentance).strip()\n",
        "    sentance = re.sub('[^A-Za-z]+', ' ', sentance)\n",
        "    # https://gist.github.com/sebleier/554280\n",
        "    sentance = ' '.join(e.lower() for e in sentance.split() if e.lower() not in stopwords)\n",
        "    preprocessed_reviews.append(sentance.strip())"
      ],
      "execution_count": null,
      "outputs": [
        {
          "output_type": "stream",
          "text": [
            "100%|██████████| 87773/87773 [00:37<00:00, 2347.22it/s]\n"
          ],
          "name": "stderr"
        }
      ]
    },
    {
      "cell_type": "code",
      "metadata": {
        "id": "sYIfYlniLs3i",
        "colab": {
          "base_uri": "https://localhost:8080/",
          "height": 35
        },
        "outputId": "3a4b239b-4d84-4fb4-a23e-61e526161238"
      },
      "source": [
        "preprocessed_reviews[1500]"
      ],
      "execution_count": null,
      "outputs": [
        {
          "output_type": "execute_result",
          "data": {
            "application/vnd.google.colaboratory.intrinsic": {
              "type": "string"
            },
            "text/plain": [
              "'way hot blood took bite jig lol'"
            ]
          },
          "metadata": {
            "tags": []
          },
          "execution_count": 24
        }
      ]
    },
    {
      "cell_type": "markdown",
      "metadata": {
        "id": "6o10AZOHMg5p"
      },
      "source": [
        "# <a id='32'>3.2 Applying T-SNE To Visualize Data </a>"
      ]
    },
    {
      "cell_type": "markdown",
      "metadata": {
        "id": "RGcFy1G8NJkP"
      },
      "source": [
        "- Before applying t-SNE, let's convert our textual data into numerical vectors using text processing techniques in NLP.\n",
        "- To learn about the featurization techniques discussed below, check out my repository named [Natural Language Processing](https://github.com/deveshSingh06/Natural-Language-Processing)."
      ]
    },
    {
      "cell_type": "markdown",
      "metadata": {
        "id": "Uj_8CSDFNlN-"
      },
      "source": [
        "#### <a id='321'>3.2.1. Bag of Words </a>"
      ]
    },
    {
      "cell_type": "code",
      "metadata": {
        "id": "Snj3YHe8NBOD",
        "colab": {
          "base_uri": "https://localhost:8080/",
          "height": 101
        },
        "outputId": "203e9cf1-f079-4921-eb33-d3db37d19802"
      },
      "source": [
        "#BoW\n",
        "count_vect = CountVectorizer() #in scikit-learn\n",
        "count_vect.fit(preprocessed_reviews)\n",
        "print(\"some feature names \", count_vect.get_feature_names()[:10])\n",
        "print('='*50)\n",
        "\n",
        "final_counts = count_vect.transform(preprocessed_reviews)\n",
        "print(\"the type of count vectorizer \",type(final_counts))\n",
        "print(\"the shape of out text BOW vectorizer \",final_counts.get_shape())\n",
        "print(\"the number of unique words \", final_counts.get_shape()[1])"
      ],
      "execution_count": null,
      "outputs": [
        {
          "output_type": "stream",
          "text": [
            "some feature names  ['aa', 'aaa', 'aaaa', 'aaaaa', 'aaaaaaaaaaaa', 'aaaaaaaaaaaaaaa', 'aaaaaaahhhhhh', 'aaaaaaarrrrrggghhh', 'aaaaaawwwwwwwwww', 'aaaaah']\n",
            "==================================================\n",
            "the type of count vectorizer  <class 'scipy.sparse.csr.csr_matrix'>\n",
            "the shape of out text BOW vectorizer  (87773, 54904)\n",
            "the number of unique words  54904\n"
          ],
          "name": "stdout"
        }
      ]
    },
    {
      "cell_type": "markdown",
      "metadata": {
        "id": "CCo7FKHTNw-N"
      },
      "source": [
        "#### <a id='322'>3.2.2.TF-IDF </a>"
      ]
    },
    {
      "cell_type": "code",
      "metadata": {
        "id": "5nW3gDJINBCQ",
        "colab": {
          "base_uri": "https://localhost:8080/",
          "height": 101
        },
        "outputId": "a20e9179-fd74-4f05-9042-a63785e69687"
      },
      "source": [
        "tf_idf_vect = TfidfVectorizer(ngram_range=(1,2), min_df=10)\n",
        "tf_idf_vect.fit(preprocessed_reviews)\n",
        "print(\"some sample features(unique words in the corpus)\",tf_idf_vect.get_feature_names()[0:10])\n",
        "print('='*50)\n",
        "\n",
        "final_tf_idf = tf_idf_vect.transform(preprocessed_reviews)\n",
        "print(\"the type of count vectorizer \",type(final_tf_idf))\n",
        "print(\"the shape of out text TFIDF vectorizer \",final_tf_idf.get_shape())\n",
        "print(\"the number of unique words including both unigrams and bigrams \", final_tf_idf.get_shape()[1])"
      ],
      "execution_count": null,
      "outputs": [
        {
          "output_type": "stream",
          "text": [
            "some sample features(unique words in the corpus) ['aa', 'aafco', 'aback', 'abandon', 'abandoned', 'abdominal', 'ability', 'able', 'able add', 'able brew']\n",
            "==================================================\n",
            "the type of count vectorizer  <class 'scipy.sparse.csr.csr_matrix'>\n",
            "the shape of out text TFIDF vectorizer  (87773, 51709)\n",
            "the number of unique words including both unigrams and bigrams  51709\n"
          ],
          "name": "stdout"
        }
      ]
    },
    {
      "cell_type": "markdown",
      "metadata": {
        "id": "Y96C9rJgOGFm"
      },
      "source": [
        "### <a id='323'>3.2.3.Applying T-SNE </a>"
      ]
    },
    {
      "cell_type": "markdown",
      "metadata": {
        "id": "8Eca9MgMN8z_"
      },
      "source": [
        "- We apply t-SNE on the vectors created in the above featurization techniques and reduce their dimensions to 2-d.\n",
        "- We can use these vectors with reduced dimensions for plotting graphs in 2-d.\n",
        "- To learn about t-SNE, check out my repository named [t-SNE on MNIST Dataset](https://github.com/deveshSingh06/t-SNE)."
      ]
    },
    {
      "cell_type": "code",
      "metadata": {
        "id": "KulBEuCUP7pn",
        "colab": {
          "base_uri": "https://localhost:8080/",
          "height": 34
        },
        "outputId": "15e2e2d1-3994-435b-82a1-631da0928a8e"
      },
      "source": [
        "# n_components = dimension of the embedded space. Here, 2-d.\n",
        "# perplexity = no. of points in the neighbourhood of a point\n",
        "model = TSNE(n_components=2, random_state=0, perplexity= 550, n_iter= 5000)\n",
        "\n",
        "#Applying t-SNE only on 2k points because of memory constraint.\n",
        "final_counts = final_counts[0:2000]\n",
        "actualScore = actualScore[0:2000]\n",
        "type(final_counts)"
      ],
      "execution_count": null,
      "outputs": [
        {
          "output_type": "execute_result",
          "data": {
            "text/plain": [
              "scipy.sparse.csr.csr_matrix"
            ]
          },
          "metadata": {
            "tags": []
          },
          "execution_count": 32
        }
      ]
    },
    {
      "cell_type": "markdown",
      "metadata": {
        "id": "ijU1kLO5OoaC"
      },
      "source": [
        "### <a id='3231'>3.2.3.1. Applying T-SNE on BoW vectors </a>\n"
      ]
    },
    {
      "cell_type": "code",
      "metadata": {
        "id": "IiB-SKWYNA1F",
        "colab": {
          "base_uri": "https://localhost:8080/",
          "height": 618
        },
        "outputId": "f1bbe85d-df65-4c1a-a999-5c78c4145627"
      },
      "source": [
        "tsne_data = model.fit_transform(final_counts.toarray())\n",
        "print(\"Shape of t-SNE_reduced data = \", tsne_data.shape)\n",
        "\n",
        "# creating a new data frame which help us in ploting the result data\n",
        "tsne_data1 = np.vstack((tsne_data.T, actualScore)).T\n",
        "tsne_df = pd.DataFrame(data=tsne_data1, columns=(\"Dim_1\", \"Dim_2\", \"label\"))\n",
        "\n",
        "sns.FacetGrid(tsne_df,hue=\"label\",height=8).map(plt.scatter,'Dim_1','Dim_2').add_legend()\n",
        "plt.title(\"t-SNE on Bag of Words\")\n",
        "plt.show()"
      ],
      "execution_count": null,
      "outputs": [
        {
          "output_type": "stream",
          "text": [
            "Shape of t-SNE_reduced data =  (2000, 2)\n"
          ],
          "name": "stdout"
        },
        {
          "output_type": "display_data",
          "data": {
            "image/png": "[encoded data removed]",
            "text/plain": [
              "<Figure size 627.875x576 with 1 Axes>"
            ]
          },
          "metadata": {
            "tags": [],
            "needs_background": "light"
          }
        }
      ]
    },
    {
      "cell_type": "markdown",
      "metadata": {
        "id": "btKbRQSiO3vW"
      },
      "source": [
        "#### Insights from the above plot:\n",
        "\n",
        "- After applying t-SNE on BoW of the reviews, it is clear that the data points cannot be seperated easily.\n",
        "- That is, t-SNE is unable to sperate the data points in the case of BOW representation mainly beacuse of large size of BOW vectors and ignoration of meanings of words.\n",
        "- In the above plot, blue points(0) are the representation of negative points and orange points(1) are the representation of positive points."
      ]
    },
    {
      "cell_type": "markdown",
      "metadata": {
        "id": "cUrKzrnvO_di"
      },
      "source": [
        "### <a id='3232'>3.2.3.2. Applying T-SNE on TF-IDF vectors </a>"
      ]
    },
    {
      "cell_type": "code",
      "metadata": {
        "id": "Zk1k1qRzNAjK",
        "colab": {
          "base_uri": "https://localhost:8080/",
          "height": 618
        },
        "outputId": "e929e9df-a705-4f4f-9135-90d6e26e3b21"
      },
      "source": [
        "final_tf_idf = final_tf_idf[0:2000]\n",
        "\n",
        "tsne_data_tfidf = model.fit_transform(final_tf_idf.toarray())\n",
        "print(\"Shape of t-SNE_reduced data = \", tsne_data_tfidf.shape)\n",
        "\n",
        "tsne_data_tfidf_new = np.vstack((tsne_data_tfidf.T, actualScore)).T\n",
        "tsne_df_tfidf = pd.DataFrame(data=tsne_data_tfidf_new, columns=(\"1st_diamension\", \"2nd_Dimension\", \"label\"))\n",
        "\n",
        "sns.FacetGrid(tsne_df_tfidf,hue=\"label\",height=8).map(plt.scatter,'1st_diamension','2nd_Dimension').add_legend()\n",
        "plt.title(\"t-SNE on TF_IDF\")\n",
        "plt.show()"
      ],
      "execution_count": null,
      "outputs": [
        {
          "output_type": "stream",
          "text": [
            "Shape of t-SNE_reduced data =  (2000, 2)\n"
          ],
          "name": "stdout"
        },
        {
          "output_type": "display_data",
          "data": {
            "image/png": "[encoded data removed]",
            "text/plain": [
              "<Figure size 627.875x576 with 1 Axes>"
            ]
          },
          "metadata": {
            "tags": [],
            "needs_background": "light"
          }
        }
      ]
    },
    {
      "cell_type": "markdown",
      "metadata": {
        "id": "iF9UIjHWPP1-"
      },
      "source": [
        "#### Insights from the above plot:\n",
        "\n",
        "- Even after appplying t-SNE on TFIDF, data points are not well seperated."
      ]
    },
    {
      "cell_type": "markdown",
      "metadata": {
        "id": "h8bLwjDpPgmX"
      },
      "source": [
        "### <a id='324'>3.2.4. T-SNE Conclusions </a>"
      ]
    },
    {
      "cell_type": "markdown",
      "metadata": {
        "id": "m-9repALPXi_"
      },
      "source": [
        "- It could be clearly seen from the plots above that the positive and negative reviews cannot be classified in two different groups.\n",
        "- We need to use some more advanced machine learning techniques that can help us classify the positive and negative reviews."
      ]
    },
    {
      "cell_type": "markdown",
      "metadata": {
        "id": "3CQUBs1g2Q3J"
      },
      "source": [
        "# <a id='4'>4. Splitting preprocessed reviews into train, cross validate and test datasets </a>"
      ]
    },
    {
      "cell_type": "markdown",
      "metadata": {
        "id": "8UrbmV6y2b15"
      },
      "source": [
        "> ***Note: Splitting data into train, test, and cross validate datasets before vectorizing the data because of Data Leakage problem.***"
      ]
    },
    {
      "cell_type": "markdown",
      "metadata": {
        "id": "_N8W85mJ2f73"
      },
      "source": [
        "> **Data leakage:** \n",
        "- It is a condition when the test data is already seen by the model during the training phase.\n",
        "- In a way, the model sees the test data prior to testing stage.\n",
        "- Hence, it results in biased results. \n",
        "- Generally happens because of unknowingly using the entire data for training purpose."
      ]
    },
    {
      "cell_type": "code",
      "metadata": {
        "id": "G1dOCQnY2h6e"
      },
      "source": [
        "from sklearn.model_selection  import train_test_split\n",
        "\n",
        "X=preprocessed_reviews\n",
        "y=np.array(final['Score'])\n",
        "\n",
        "X_1, X_test, y_1, y_test = train_test_split(X, y, test_size=0.3, random_state=0)\n",
        "X_train, X_cv, y_train, y_cv = train_test_split(X_1, y_1, test_size=0.3)\n"
      ],
      "execution_count": null,
      "outputs": []
    },
    {
      "cell_type": "markdown",
      "metadata": {
        "id": "vXywjoPr-Qbf"
      },
      "source": [
        "# <a id='5'>5. Featurization </a>"
      ]
    },
    {
      "cell_type": "markdown",
      "metadata": {
        "id": "KytWt6Sb910r"
      },
      "source": [
        "### <a id='51'> 5.1 Featurizing data using Bag Of Words(BoW) </a>"
      ]
    },
    {
      "cell_type": "code",
      "metadata": {
        "id": "qVMaNHaC2_Vw"
      },
      "source": [
        "count_vect = CountVectorizer()\n",
        "X_train_bow=count_vect.fit_transform(X_train)\n",
        "X_cv_bow=count_vect.transform(X_cv)\n",
        "X_test_bow=count_vect.transform(X_test)\n",
        "\n",
        "#Standardizing data\n",
        "from sklearn.preprocessing import StandardScaler\n",
        "\n",
        "scalar = StandardScaler(with_mean=False)\n",
        "X_train_bow = scalar.fit_transform(X_train_bow)\n",
        "X_test_bow= scalar.transform(X_test_bow)\n",
        "X_cv_bow=scalar.transform(X_cv_bow)"
      ],
      "execution_count": null,
      "outputs": []
    },
    {
      "cell_type": "markdown",
      "metadata": {
        "id": "EMeQXWhT98za"
      },
      "source": [
        "## <a id='52'> 5.2 Featurizing data using TFIDF </a>"
      ]
    },
    {
      "cell_type": "code",
      "metadata": {
        "id": "SaMd7lOr-Djx"
      },
      "source": [
        "tf_idf_vect = TfidfVectorizer(ngram_range=(1,2), min_df=10)\n",
        "X_train_tf=tf_idf_vect.fit_transform(X_train)\n",
        "X_cv_tf=tf_idf_vect.transform(X_cv)\n",
        "X_test_tf=tf_idf_vect.transform(X_test)\n",
        "\n",
        "#Standardizing data\n",
        "scalar = StandardScaler(with_mean=False)\n",
        "X_train_tf = scalar.fit_transform(X_train_tf)\n",
        "X_test_tf= scalar.transform(X_test_tf)\n",
        "X_cv_tf=scalar.transform(X_cv_tf)"
      ],
      "execution_count": null,
      "outputs": []
    },
    {
      "cell_type": "markdown",
      "metadata": {
        "id": "Snsf3t3W2rU3"
      },
      "source": [
        "# <a id='6'> 6. Building Machine Learning Models </a>"
      ]
    },
    {
      "cell_type": "markdown",
      "metadata": {
        "id": "aPYIWlGxLs4A"
      },
      "source": [
        "### <a id='61'> 6.1. Building Random Forest Model </a>"
      ]
    },
    {
      "cell_type": "code",
      "metadata": {
        "id": "u6tEEl9f6qY8"
      },
      "source": [
        "#Loading necessary libraries\n",
        "\n",
        "import numpy as np\n",
        "import pandas as pd\n",
        "import math\n",
        "import matplotlib.pyplot as plt\n",
        "import seaborn as sns\n",
        "from sklearn.model_selection  import train_test_split\n",
        "from sklearn.metrics import accuracy_score\n",
        "from sklearn.model_selection  import cross_val_score\n",
        "from collections import Counter\n",
        "from sklearn.metrics import accuracy_score\n",
        "from sklearn import model_selection\n",
        "from sklearn.metrics import roc_auc_score\n",
        "from sklearn.linear_model import LogisticRegression\n",
        "from sklearn.preprocessing import StandardScaler\n",
        "from sklearn.calibration import CalibratedClassifierCV\n",
        "from sklearn.svm import SVC\n",
        "from sklearn.tree import DecisionTreeClassifier\n",
        "from sklearn.ensemble import RandomForestClassifier\n",
        "from sklearn.model_selection import GridSearchCV\n",
        "from sklearn.metrics import confusion_matrix\n",
        "from sklearn.metrics import classification_report"
      ],
      "execution_count": null,
      "outputs": []
    },
    {
      "cell_type": "markdown",
      "metadata": {
        "id": "4Su1uqtI-ouK"
      },
      "source": [
        "### <a id='611'> 6.1.1. Applying Random Forests on BoW </a>"
      ]
    },
    {
      "cell_type": "code",
      "metadata": {
        "id": "JyV_d14ALs4B",
        "colab": {
          "base_uri": "https://localhost:8080/",
          "height": 50
        },
        "outputId": "fd4ab4ff-0a98-479d-f591-8131309a677c"
      },
      "source": [
        "#Hyperparameter tuning\n",
        "\n",
        "base_learners = [60,80,100,120]\n",
        "depths=[500,900,1200]\n",
        "param_grid={'n_estimators': base_learners, 'max_depth':depths}\n",
        "rf = RandomForestClassifier(max_features='sqrt')\n",
        "model=GridSearchCV(rf,param_grid,scoring='roc_auc',n_jobs=-1,cv=3)\n",
        "model.fit(X_train_bow,y_train)\n",
        "\n",
        "optimal_n_estimators = model.best_estimator_.n_estimators\n",
        "optimal_max_depth = model.best_estimator_.max_depth\n",
        "print(\"optimal n_estimators\",optimal_n_estimators)\n",
        "print(\"optimal max_depth\",optimal_max_depth)\n"
      ],
      "execution_count": null,
      "outputs": [
        {
          "output_type": "stream",
          "text": [
            "optimal n_estimators 120\n",
            "optimal max_depth 500\n"
          ],
          "name": "stdout"
        }
      ]
    },
    {
      "cell_type": "markdown",
      "metadata": {
        "id": "PqVLMASn3fhZ"
      },
      "source": [
        "### <a id='612'> 6.1.1.1 Plotting heatmaps to understand AUC score for optimal no. of estimators and max depth better </a>"
      ]
    },
    {
      "cell_type": "code",
      "metadata": {
        "id": "aow2zQAZ1cDQ",
        "colab": {
          "base_uri": "https://localhost:8080/",
          "height": 296
        },
        "outputId": "153fcabd-c8da-4a32-9532-670a528d85de"
      },
      "source": [
        "import seaborn as sns\n",
        "X=[]\n",
        "Y=[]\n",
        "Z=[]\n",
        "Zt=[]\n",
        "for bl in base_learners:\n",
        "    for d in depths:\n",
        "        rf=RandomForestClassifier(max_features='sqrt',max_depth=d,n_estimators=bl)\n",
        "        rf.fit(X_train_bow,y_train)\n",
        "        pred=rf.predict_proba(X_cv_bow)[:,1]\n",
        "        predt=rf.predict_proba(X_train_bow)[:,1]\n",
        "        X.append(bl)\n",
        "        Y.append(d)\n",
        "        Z.append(roc_auc_score(y_cv,pred))\n",
        "        Zt.append(roc_auc_score(y_train,predt))\n",
        "        \n",
        "data = pd.DataFrame({'n_estimators': X, 'max_depth': Y, 'AUC': Z})\n",
        "data_pivoted = data.pivot(\"n_estimators\", \"max_depth\", \"AUC\")\n",
        "ax = sns.heatmap(data_pivoted,annot=True)\n",
        "plt.title('Heatmap for cross validation data')\n",
        "plt.show()"
      ],
      "execution_count": null,
      "outputs": [
        {
          "output_type": "display_data",
          "data": {
            "image/png": "[encoded data removed]",
            "text/plain": [
              "<Figure size 432x288 with 2 Axes>"
            ]
          },
          "metadata": {
            "tags": [],
            "needs_background": "light"
          }
        }
      ]
    },
    {
      "cell_type": "code",
      "metadata": {
        "id": "nlucQed91cDY",
        "colab": {
          "base_uri": "https://localhost:8080/",
          "height": 296
        },
        "outputId": "a5544c08-99e0-49b6-c45a-d0d84a30312d"
      },
      "source": [
        "data = pd.DataFrame({'n_estimators': X, 'max_depth': Y, 'AUC': Zt})\n",
        "data_pivoted = data.pivot(\"n_estimators\", \"max_depth\", \"AUC\")\n",
        "ax = sns.heatmap(data_pivoted,annot=True)\n",
        "plt.title('Heatmap for train data')\n",
        "plt.show()"
      ],
      "execution_count": null,
      "outputs": [
        {
          "output_type": "display_data",
          "data": {
            "image/png": "[encoded data removed]",
            "text/plain": [
              "<Figure size 432x288 with 2 Axes>"
            ]
          },
          "metadata": {
            "tags": [],
            "needs_background": "light"
          }
        }
      ]
    },
    {
      "cell_type": "code",
      "metadata": {
        "id": "jcEBd0p11cDc",
        "colab": {
          "base_uri": "https://localhost:8080/",
          "height": 295
        },
        "outputId": "030458a8-f5d3-4cf9-e92f-a4774f4a6ecd"
      },
      "source": [
        "#Plotting ROC curve\n",
        "\n",
        "rf=RandomForestClassifier(max_features='sqrt',max_depth=optimal_max_depth,n_estimators=optimal_n_estimators)\n",
        "rf.fit(X_train_bow,y_train)\n",
        "predi=rf.predict_proba(X_test_bow)[:,1]\n",
        "fpr1, tpr1, thresholds1 = metrics.roc_curve(y_test, predi)\n",
        "pred=rf.predict_proba(X_train_bow)[:,1]\n",
        "fpr2,tpr2,thresholds2=metrics.roc_curve(y_train,pred)\n",
        "fig = plt.figure()\n",
        "ax = plt.subplot(111)\n",
        "ax.plot(fpr1, tpr1, label='Test ROC ,auc='+str(roc_auc_score(y_test,predi)))\n",
        "ax.plot(fpr2, tpr2, label='Train ROC ,auc='+str(roc_auc_score(y_train,pred)))\n",
        "plt.title('ROC')\n",
        "plt.xlabel('FPR')\n",
        "plt.ylabel('TPR')\n",
        "ax.legend()\n",
        "plt.show()"
      ],
      "execution_count": null,
      "outputs": [
        {
          "output_type": "display_data",
          "data": {
            "image/png": "[encoded data removed]",
            "text/plain": [
              "<Figure size 432x288 with 1 Axes>"
            ]
          },
          "metadata": {
            "tags": [],
            "needs_background": "light"
          }
        }
      ]
    },
    {
      "cell_type": "markdown",
      "metadata": {
        "id": "0G39QE5j3ynP"
      },
      "source": [
        "### <a id='6112'> 6.1.1.2. Evaluation metrics </a>"
      ]
    },
    {
      "cell_type": "code",
      "metadata": {
        "id": "0P2YNV1h1cDf",
        "colab": {
          "base_uri": "https://localhost:8080/",
          "height": 514
        },
        "outputId": "1b870cae-04c1-47d2-a917-760b466d2de1"
      },
      "source": [
        "#Confusion matrix using heatmap for train data\n",
        "\n",
        "predic=rf.predict(X_train_bow)\n",
        "\n",
        "conf_mat = confusion_matrix(y_train, predic)\n",
        "class_label = [\"negative\", \"positive\"]\n",
        "df = pd.DataFrame(conf_mat, index = class_label, columns = class_label)\n",
        "\n",
        "sns.heatmap(df, annot = True,fmt=\"d\")\n",
        "plt.title(\"Confusion Matrix for train data\")\n",
        "plt.xlabel(\"Predicted Label\")\n",
        "plt.ylabel(\"True Label\")\n",
        "plt.show()\n",
        "\n",
        "print('\\n')\n",
        "print('-'*20,'Metric report for train data','-'*20)\n",
        "print('\\n',classification_report(y_train,predic))"
      ],
      "execution_count": null,
      "outputs": [
        {
          "output_type": "display_data",
          "data": {
            "image/png": "[encoded data removed]",
            "text/plain": [
              "<Figure size 432x288 with 2 Axes>"
            ]
          },
          "metadata": {
            "tags": [],
            "needs_background": "light"
          }
        },
        {
          "output_type": "stream",
          "text": [
            "\n",
            "\n",
            "-------------------- Metric report for train data --------------------\n",
            "\n",
            "               precision    recall  f1-score   support\n",
            "\n",
            "           0       1.00      1.00      1.00      6978\n",
            "           1       1.00      1.00      1.00     36030\n",
            "\n",
            "    accuracy                           1.00     43008\n",
            "   macro avg       1.00      1.00      1.00     43008\n",
            "weighted avg       1.00      1.00      1.00     43008\n",
            "\n"
          ],
          "name": "stdout"
        }
      ]
    },
    {
      "cell_type": "code",
      "metadata": {
        "id": "DMLk2kpT1cDp",
        "colab": {
          "base_uri": "https://localhost:8080/",
          "height": 514
        },
        "outputId": "fa5d0a26-45a7-41e1-a569-7e88bf15b525"
      },
      "source": [
        "#Confusion matrix using heatmap for test data\n",
        "\n",
        "predic=rf.predict(X_test_bow)\n",
        "conf_mat = confusion_matrix(y_test, predic)\n",
        "class_label = [\"negative\", \"positive\"]\n",
        "df = pd.DataFrame(conf_mat, index = class_label, columns = class_label)\n",
        "\n",
        "sns.heatmap(df, annot = True,fmt=\"d\")\n",
        "plt.title(\"Confusion Matrix for test data\")\n",
        "plt.xlabel(\"Predicted Label\")\n",
        "plt.ylabel(\"True Label\")\n",
        "plt.show()\n",
        "\n",
        "print('\\n')\n",
        "print('-'*20,'Metric report for test data','-'*20)\n",
        "print('\\n',classification_report(y_test,predic))"
      ],
      "execution_count": null,
      "outputs": [
        {
          "output_type": "display_data",
          "data": {
            "image/png": "[encoded data removed]",
            "text/plain": [
              "<Figure size 432x288 with 2 Axes>"
            ]
          },
          "metadata": {
            "tags": [],
            "needs_background": "light"
          }
        },
        {
          "output_type": "stream",
          "text": [
            "\n",
            "\n",
            "-------------------- Metric report for test data --------------------\n",
            "\n",
            "               precision    recall  f1-score   support\n",
            "\n",
            "           0       0.95      0.22      0.36      4228\n",
            "           1       0.87      1.00      0.93     22104\n",
            "\n",
            "    accuracy                           0.87     26332\n",
            "   macro avg       0.91      0.61      0.64     26332\n",
            "weighted avg       0.88      0.87      0.84     26332\n",
            "\n"
          ],
          "name": "stdout"
        }
      ]
    },
    {
      "cell_type": "markdown",
      "metadata": {
        "id": "bwf2SbLSLs4D"
      },
      "source": [
        "### <a id='6113'> 6.1.1.3. Feature Importance </a>"
      ]
    },
    {
      "cell_type": "code",
      "metadata": {
        "id": "TRNEginoLs4D",
        "colab": {
          "base_uri": "https://localhost:8080/",
          "height": 198
        },
        "outputId": "06f4345a-6d3f-4b71-ca48-f10943bf5067"
      },
      "source": [
        "#Top 20 important features\n",
        "all_features = count_vect.get_feature_names()\n",
        "data=''\n",
        "feat=rf.feature_importances_\n",
        "features=np.argsort(feat)[::-1]\n",
        "for i in features[0:20]:\n",
        "    data+=all_features[i]\n",
        "    data+=' '\n",
        "    \n",
        "    \n",
        "from wordcloud import WordCloud\n",
        "wordcloud = WordCloud(background_color=\"white\").generate(data)\n",
        "\n",
        "# Display the generated image:\n",
        "plt.imshow(wordcloud, interpolation='bilinear')\n",
        "plt.axis(\"off\")\n",
        "plt.show()"
      ],
      "execution_count": null,
      "outputs": [
        {
          "output_type": "display_data",
          "data": {
            "image/png": "[encoded data removed]",
            "text/plain": [
              "<Figure size 432x288 with 1 Axes>"
            ]
          },
          "metadata": {
            "tags": [],
            "needs_background": "light"
          }
        }
      ]
    },
    {
      "cell_type": "markdown",
      "metadata": {
        "id": "o0qHcTh5Ls4E"
      },
      "source": [
        "## <a id='612'> 6.1.2. Applying Random Forests on TFIDF </a>"
      ]
    },
    {
      "cell_type": "code",
      "metadata": {
        "id": "O_pZjKWPLs4F",
        "colab": {
          "base_uri": "https://localhost:8080/",
          "height": 50
        },
        "outputId": "ee8daf39-7233-4f9a-9f76-78ee211d24d9"
      },
      "source": [
        "base_learners = [60,80,100,120]\n",
        "depths=[500,900,1200]\n",
        "param_grid={'n_estimators': base_learners, 'max_depth':depths}\n",
        "\n",
        "rf = RandomForestClassifier(max_features='sqrt')\n",
        "model=GridSearchCV(rf,param_grid,scoring='roc_auc',n_jobs=-1,cv=3)\n",
        "model.fit(X_train_tf,y_train)\n",
        "\n",
        "optimal_n_estimators = model.best_estimator_.n_estimators\n",
        "optimal_max_depth = model.best_estimator_.max_depth\n",
        "print(\"optimal n_estimators\",optimal_n_estimators)\n",
        "print(\"optimal max_depth\",optimal_max_depth)"
      ],
      "execution_count": null,
      "outputs": [
        {
          "output_type": "stream",
          "text": [
            "optimal n_estimators 120\n",
            "optimal max_depth 900\n"
          ],
          "name": "stdout"
        }
      ]
    },
    {
      "cell_type": "markdown",
      "metadata": {
        "id": "btoHAFGl6O3w"
      },
      "source": [
        "### <a id='6121'> 6.1.2.1 Plotting heatmaps to understand AUC score for optimal no. of estimators and max depth better </a>"
      ]
    },
    {
      "cell_type": "code",
      "metadata": {
        "id": "A3NdAj7z1cD-",
        "colab": {
          "base_uri": "https://localhost:8080/",
          "height": 296
        },
        "outputId": "d43c0d5d-342a-43f5-ff35-d210d9cebd61"
      },
      "source": [
        "\n",
        "X=[]\n",
        "Y=[]\n",
        "Z=[]\n",
        "Zt=[]\n",
        "for bl in base_learners:\n",
        "    for d in depths:\n",
        "        rf=RandomForestClassifier(max_features='sqrt',max_depth=d,n_estimators=bl)\n",
        "        rf.fit(X_train_tf,y_train)\n",
        "        pred=rf.predict_proba(X_cv_tf)[:,1]\n",
        "        predt=rf.predict_proba(X_train_tf)[:,1]\n",
        "        X.append(bl)\n",
        "        Y.append(d)\n",
        "        Z.append(roc_auc_score(y_cv,pred))\n",
        "        Zt.append(roc_auc_score(y_train,predt))\n",
        "        \n",
        "data = pd.DataFrame({'n_estimators': X, 'max_depth': Y, 'AUC': Z})\n",
        "data_pivoted = data.pivot(\"n_estimators\", \"max_depth\", \"AUC\")\n",
        "ax = sns.heatmap(data_pivoted,annot=True)\n",
        "plt.title('Heatmap for cross validation data')\n",
        "plt.show()\n",
        "\n"
      ],
      "execution_count": null,
      "outputs": [
        {
          "output_type": "display_data",
          "data": {
            "image/png": "[encoded data removed]",
            "text/plain": [
              "<Figure size 432x288 with 2 Axes>"
            ]
          },
          "metadata": {
            "tags": [],
            "needs_background": "light"
          }
        }
      ]
    },
    {
      "cell_type": "code",
      "metadata": {
        "id": "gXB9x5eU1cEC",
        "colab": {
          "base_uri": "https://localhost:8080/",
          "height": 296
        },
        "outputId": "9398487f-92b7-47e3-fa15-d4559124f571"
      },
      "source": [
        "data = pd.DataFrame({'n_estimators': X, 'max_depth': Y, 'AUC': Zt})\n",
        "data_pivoted = data.pivot(\"n_estimators\", \"max_depth\", \"AUC\")\n",
        "ax = sns.heatmap(data_pivoted,annot=True)\n",
        "plt.title('Heatmap for train data')\n",
        "plt.show()"
      ],
      "execution_count": null,
      "outputs": [
        {
          "output_type": "display_data",
          "data": {
            "image/png": "[encoded data removed]",
            "text/plain": [
              "<Figure size 432x288 with 2 Axes>"
            ]
          },
          "metadata": {
            "tags": [],
            "needs_background": "light"
          }
        }
      ]
    },
    {
      "cell_type": "code",
      "metadata": {
        "id": "EmpXcdDI1cEI",
        "colab": {
          "base_uri": "https://localhost:8080/",
          "height": 295
        },
        "outputId": "f8a148f7-a03f-4b27-f8e5-c7ef7a3aed84"
      },
      "source": [
        "#Plotting ROC curve\n",
        "\n",
        "rf=RandomForestClassifier(max_features='sqrt',max_depth=optimal_max_depth,n_estimators=optimal_n_estimators)\n",
        "rf.fit(X_train_tf,y_train)\n",
        "predi=rf.predict_proba(X_test_tf)[:,1]\n",
        "fpr1, tpr1, thresholds1 = metrics.roc_curve(y_test, predi)\n",
        "pred=rf.predict_proba(X_train_tf)[:,1]\n",
        "fpr2,tpr2,thresholds2=metrics.roc_curve(y_train,pred)\n",
        "fig = plt.figure()\n",
        "ax = plt.subplot(111)\n",
        "ax.plot(fpr1, tpr1, label='Test ROC ,auc='+str(roc_auc_score(y_test,predi)))\n",
        "ax.plot(fpr2, tpr2, label='Train ROC ,auc='+str(roc_auc_score(y_train,pred)))\n",
        "plt.title('ROC')\n",
        "plt.xlabel('FPR')\n",
        "plt.ylabel('TPR')\n",
        "ax.legend()\n",
        "plt.show()"
      ],
      "execution_count": null,
      "outputs": [
        {
          "output_type": "display_data",
          "data": {
            "image/png": "[encoded data removed]",
            "text/plain": [
              "<Figure size 432x288 with 1 Axes>"
            ]
          },
          "metadata": {
            "tags": [],
            "needs_background": "light"
          }
        }
      ]
    },
    {
      "cell_type": "markdown",
      "metadata": {
        "id": "WeKi_i988YOo"
      },
      "source": [
        "### <a id='6122'>6.1.2.2. Evaluation metrics </a>"
      ]
    },
    {
      "cell_type": "code",
      "metadata": {
        "id": "banI5sXk1cEM",
        "colab": {
          "base_uri": "https://localhost:8080/",
          "height": 514
        },
        "outputId": "da4216c0-4000-4c2b-e7f4-0727cb3da74e"
      },
      "source": [
        "#Confusion matrix using heatmap for train data\n",
        "\n",
        "predic=rf.predict(X_train_tf)\n",
        "\n",
        "conf_mat = confusion_matrix(y_train, predic)\n",
        "class_label = [\"negative\", \"positive\"]\n",
        "df = pd.DataFrame(conf_mat, index = class_label, columns = class_label)\n",
        "\n",
        "sns.heatmap(df, annot = True,fmt=\"d\")\n",
        "plt.title(\"Confusion Matrix for train data\")\n",
        "plt.xlabel(\"Predicted Label\")\n",
        "plt.ylabel(\"True Label\")\n",
        "plt.show()\n",
        "\n",
        "print('\\n')\n",
        "print('-'*20,'Metric report for train data','-'*20)\n",
        "print('\\n',classification_report(y_train,predic))"
      ],
      "execution_count": null,
      "outputs": [
        {
          "output_type": "display_data",
          "data": {
            "image/png": "[encoded data removed]",
            "text/plain": [
              "<Figure size 432x288 with 2 Axes>"
            ]
          },
          "metadata": {
            "tags": [],
            "needs_background": "light"
          }
        },
        {
          "output_type": "stream",
          "text": [
            "\n",
            "\n",
            "-------------------- Metric report for train data --------------------\n",
            "\n",
            "               precision    recall  f1-score   support\n",
            "\n",
            "           0       1.00      1.00      1.00      6978\n",
            "           1       1.00      1.00      1.00     36030\n",
            "\n",
            "    accuracy                           1.00     43008\n",
            "   macro avg       1.00      1.00      1.00     43008\n",
            "weighted avg       1.00      1.00      1.00     43008\n",
            "\n"
          ],
          "name": "stdout"
        }
      ]
    },
    {
      "cell_type": "code",
      "metadata": {
        "id": "mEvPrfDt1cEP",
        "colab": {
          "base_uri": "https://localhost:8080/",
          "height": 514
        },
        "outputId": "319acfbd-f35c-4fd3-faaf-41ff240eab0c"
      },
      "source": [
        "#Confusion matrix using heatmap for test data\n",
        "\n",
        "predic=rf.predict(X_test_tf)\n",
        "\n",
        "conf_mat = confusion_matrix(y_test, predic)\n",
        "class_label = [\"negative\", \"positive\"]\n",
        "df = pd.DataFrame(conf_mat, index = class_label, columns = class_label)\n",
        "\n",
        "sns.heatmap(df, annot = True,fmt=\"d\")\n",
        "plt.title(\"Confusion Matrix for test data\")\n",
        "plt.xlabel(\"Predicted Label\")\n",
        "plt.ylabel(\"True Label\")\n",
        "plt.show()\n",
        "\n",
        "\n",
        "print('\\n')\n",
        "print('-'*20,'Metric report for test data','-'*20)\n",
        "print('\\n',classification_report(y_test,predic))"
      ],
      "execution_count": null,
      "outputs": [
        {
          "output_type": "display_data",
          "data": {
            "image/png": "[encoded data removed]",
            "text/plain": [
              "<Figure size 432x288 with 2 Axes>"
            ]
          },
          "metadata": {
            "tags": [],
            "needs_background": "light"
          }
        },
        {
          "output_type": "stream",
          "text": [
            "\n",
            "\n",
            "-------------------- Metric report for test data --------------------\n",
            "\n",
            "               precision    recall  f1-score   support\n",
            "\n",
            "           0       0.93      0.31      0.46      4228\n",
            "           1       0.88      1.00      0.94     22104\n",
            "\n",
            "    accuracy                           0.89     26332\n",
            "   macro avg       0.91      0.65      0.70     26332\n",
            "weighted avg       0.89      0.89      0.86     26332\n",
            "\n"
          ],
          "name": "stdout"
        }
      ]
    },
    {
      "cell_type": "markdown",
      "metadata": {
        "id": "HjwJEpiBLs4G"
      },
      "source": [
        "### <a id='6123'>6.1.2.3. Feature Importance </a>"
      ]
    },
    {
      "cell_type": "code",
      "metadata": {
        "id": "RKJpArxmLs4G",
        "colab": {
          "base_uri": "https://localhost:8080/",
          "height": 198
        },
        "outputId": "23333fc7-dbfb-45e3-9eb8-fc8c95b2fc52"
      },
      "source": [
        "# Top 20 features\n",
        "all_features = tf_idf_vect.get_feature_names()\n",
        "data=''\n",
        "feat=rf.feature_importances_\n",
        "features=np.argsort(feat)[::-1]\n",
        "for i in features[0:20]:\n",
        "    data+=all_features[i]\n",
        "    data+=' '\n",
        "    \n",
        "    \n",
        "from wordcloud import WordCloud\n",
        "wordcloud = WordCloud(background_color=\"white\").generate(data)\n",
        "\n",
        "# Display the generated image:\n",
        "plt.imshow(wordcloud, interpolation='bilinear')\n",
        "plt.axis(\"off\")\n",
        "plt.show()"
      ],
      "execution_count": null,
      "outputs": [
        {
          "output_type": "display_data",
          "data": {
            "image/png": "[encoded data removed]",
            "text/plain": [
              "<Figure size 432x288 with 1 Axes>"
            ]
          },
          "metadata": {
            "tags": [],
            "needs_background": "light"
          }
        }
      ]
    },
    {
      "cell_type": "markdown",
      "metadata": {
        "id": "SIn8pwLdLs4L"
      },
      "source": [
        "### <a id='62'> 6.2 Building GBDT Model  using XGBOOST </a>"
      ]
    },
    {
      "cell_type": "markdown",
      "metadata": {
        "id": "8YoGGV7hLs4L"
      },
      "source": [
        "### <a id='621'> 6.2.1. Applying XGBOOST on BOW </a>"
      ]
    },
    {
      "cell_type": "code",
      "metadata": {
        "id": "KAxKETrMLs4L",
        "colab": {
          "base_uri": "https://localhost:8080/",
          "height": 330
        },
        "outputId": "82c13d53-0fe6-4039-8efe-c3c50bf0a656"
      },
      "source": [
        "from xgboost import XGBClassifier\n",
        "\n",
        "base_learners = [60,80,100,120]\n",
        "depths=[500,900,1200]\n",
        "\n",
        "import seaborn as sns\n",
        "X=[]\n",
        "Y=[]\n",
        "Z=[]\n",
        "Zt=[]\n",
        "for bl in base_learners:\n",
        "    for d in depths:\n",
        "        gbdt=XGBClassifier(booster='gbtree' ,max_depth=d,n_estimators=bl)        \n",
        "        gbdt.fit(X_train_bow,y_train)\n",
        "        pred=gbdt.predict_proba(X_cv_bow)[:,1]\n",
        "        predt=gbdt.predict_proba(X_train_bow)[:,1]\n",
        "        X.append(bl)\n",
        "        Y.append(d)\n",
        "        Z.append(roc_auc_score(y_cv,pred))\n",
        "        Zt.append(roc_auc_score(y_train,predt))\n",
        "\n",
        "optimal_depth=Y[Z.index(max(Z))]   \n",
        "optimal_n_estimator=X[Z.index(max(Z))]\n",
        "\n",
        "print('optimal depth : ',optimal_depth)\n",
        "print('optimal n_estimator : ',optimal_n_estimator)\n",
        "        \n",
        "data = pd.DataFrame({'n_estimators': X, 'max_depth': Y, 'AUC': Z})\n",
        "data_pivoted = data.pivot(\"n_estimators\", \"max_depth\", \"AUC\")\n",
        "ax = sns.heatmap(data_pivoted,annot=True)\n",
        "plt.title('Heatmap for cross validation data')\n",
        "plt.show()\n",
        "\n"
      ],
      "execution_count": null,
      "outputs": [
        {
          "output_type": "stream",
          "text": [
            "optimal depth :  500\n",
            "optimal n_estimator :  120\n"
          ],
          "name": "stdout"
        },
        {
          "output_type": "display_data",
          "data": {
            "image/png": "[encoded data removed]",
            "text/plain": [
              "<Figure size 432x288 with 2 Axes>"
            ]
          },
          "metadata": {
            "tags": [],
            "needs_background": "light"
          }
        }
      ]
    },
    {
      "cell_type": "code",
      "metadata": {
        "id": "IBExm9tc1cFz",
        "colab": {
          "base_uri": "https://localhost:8080/",
          "height": 296
        },
        "outputId": "26eadfaf-5d30-4d5f-ef38-646d56c7d36c"
      },
      "source": [
        "data = pd.DataFrame({'n_estimators': X, 'max_depth': Y, 'AUC': Zt})\n",
        "data_pivoted = data.pivot(\"n_estimators\", \"max_depth\", \"AUC\")\n",
        "ax = sns.heatmap(data_pivoted,annot=True)\n",
        "plt.title('Heatmap for train data')\n",
        "plt.show()"
      ],
      "execution_count": null,
      "outputs": [
        {
          "output_type": "display_data",
          "data": {
            "image/png": "[encoded data removed]",
            "text/plain": [
              "<Figure size 432x288 with 2 Axes>"
            ]
          },
          "metadata": {
            "tags": [],
            "needs_background": "light"
          }
        }
      ]
    },
    {
      "cell_type": "code",
      "metadata": {
        "id": "X9G6Guxp1cF2",
        "colab": {
          "base_uri": "https://localhost:8080/",
          "height": 295
        },
        "outputId": "b88c3c49-6d46-42bf-dafa-27452264d8a8"
      },
      "source": [
        "#Plotting ROC curve\n",
        "\n",
        "gbdt=XGBClassifier(booster='gbtree' ,max_depth=optimal_depth,n_estimators=optimal_n_estimator)\n",
        "gbdt.fit(X_train_bow,y_train)\n",
        "predi=gbdt.predict_proba(X_test_bow)[:,1]\n",
        "\n",
        "fpr1, tpr1, thresholds1 = metrics.roc_curve(y_test, predi)\n",
        "pred=gbdt.predict_proba(X_train_bow)[:,1]\n",
        "fpr2,tpr2,thresholds2=metrics.roc_curve(y_train,pred)\n",
        "\n",
        "fig = plt.figure()\n",
        "ax = plt.subplot(111)\n",
        "ax.plot(fpr1, tpr1, label='Test ROC ,auc='+str(roc_auc_score(y_test,predi)))\n",
        "ax.plot(fpr2, tpr2, label='Train ROC ,auc='+str(roc_auc_score(y_train,pred)))\n",
        "plt.title('ROC')\n",
        "plt.xlabel('FPR')\n",
        "plt.ylabel('TPR')\n",
        "ax.legend()\n",
        "plt.show()"
      ],
      "execution_count": null,
      "outputs": [
        {
          "output_type": "display_data",
          "data": {
            "image/png": "[encoded data removed]",
            "text/plain": [
              "<Figure size 432x288 with 1 Axes>"
            ]
          },
          "metadata": {
            "tags": [],
            "needs_background": "light"
          }
        }
      ]
    },
    {
      "cell_type": "markdown",
      "metadata": {
        "id": "acL5WmRA_4ZH"
      },
      "source": [
        "### <a id='6211'> 6.2.1.1. Evaluation metrics </a>"
      ]
    },
    {
      "cell_type": "code",
      "metadata": {
        "id": "38weDPat1cF8",
        "colab": {
          "base_uri": "https://localhost:8080/",
          "height": 514
        },
        "outputId": "3b33d539-7032-4606-c2bb-9ce2a6452677"
      },
      "source": [
        "#Confusion matrix using heatmap for train data\n",
        "\n",
        "predic=gbdt.predict(X_train_bow)\n",
        "\n",
        "conf_mat = confusion_matrix(y_train, predic)\n",
        "class_label = [\"negative\", \"positive\"]\n",
        "df = pd.DataFrame(conf_mat, index = class_label, columns = class_label)\n",
        "\n",
        "sns.heatmap(df, annot = True,fmt=\"d\")\n",
        "plt.title(\"Confusion Matrix for train data\")\n",
        "plt.xlabel(\"Predicted Label\")\n",
        "plt.ylabel(\"True Label\")\n",
        "plt.show()\n",
        "\n",
        "print('\\n')\n",
        "print('-'*20,'Metric report for train data','-'*20)\n",
        "print('\\n',classification_report(y_train,predic))"
      ],
      "execution_count": null,
      "outputs": [
        {
          "output_type": "display_data",
          "data": {
            "image/png": "[encoded data removed]",
            "text/plain": [
              "<Figure size 432x288 with 2 Axes>"
            ]
          },
          "metadata": {
            "tags": [],
            "needs_background": "light"
          }
        },
        {
          "output_type": "stream",
          "text": [
            "\n",
            "\n",
            "-------------------- Metric report for train data --------------------\n",
            "\n",
            "               precision    recall  f1-score   support\n",
            "\n",
            "           0       1.00      1.00      1.00      6978\n",
            "           1       1.00      1.00      1.00     36030\n",
            "\n",
            "    accuracy                           1.00     43008\n",
            "   macro avg       1.00      1.00      1.00     43008\n",
            "weighted avg       1.00      1.00      1.00     43008\n",
            "\n"
          ],
          "name": "stdout"
        }
      ]
    },
    {
      "cell_type": "code",
      "metadata": {
        "id": "xdOv-Qts1cF_",
        "colab": {
          "base_uri": "https://localhost:8080/",
          "height": 514
        },
        "outputId": "3e9d63d2-c69e-4d55-9783-08cfaa986abe"
      },
      "source": [
        "#Confusion matrix using heatmap for test data\n",
        "\n",
        "predic=gbdt.predict(X_test_bow)\n",
        "\n",
        "conf_mat = confusion_matrix(y_test, predic)\n",
        "class_label = [\"negative\", \"positive\"]\n",
        "df = pd.DataFrame(conf_mat, index = class_label, columns = class_label)\n",
        "\n",
        "sns.heatmap(df, annot = True,fmt=\"d\")\n",
        "plt.title(\"Confusion Matrix for test data\")\n",
        "plt.xlabel(\"Predicted Label\")\n",
        "plt.ylabel(\"True Label\")\n",
        "plt.show()\n",
        "\n",
        "print('\\n')\n",
        "print('-'*20,'Metric report for test data','-'*20)\n",
        "print('\\n',classification_report(y_test,predic))"
      ],
      "execution_count": null,
      "outputs": [
        {
          "output_type": "display_data",
          "data": {
            "image/png": "[encoded data removed]",
            "text/plain": [
              "<Figure size 432x288 with 2 Axes>"
            ]
          },
          "metadata": {
            "tags": [],
            "needs_background": "light"
          }
        },
        {
          "output_type": "stream",
          "text": [
            "\n",
            "\n",
            "-------------------- Metric report for test data --------------------\n",
            "\n",
            "               precision    recall  f1-score   support\n",
            "\n",
            "           0       0.83      0.55      0.66      4228\n",
            "           1       0.92      0.98      0.95     22104\n",
            "\n",
            "    accuracy                           0.91     26332\n",
            "   macro avg       0.87      0.76      0.80     26332\n",
            "weighted avg       0.90      0.91      0.90     26332\n",
            "\n"
          ],
          "name": "stdout"
        }
      ]
    },
    {
      "cell_type": "markdown",
      "metadata": {
        "id": "u5_lHeZuLs4N"
      },
      "source": [
        "### <a id='622'> 6.2.2. Applying XGBOOST on TFIDF </a>"
      ]
    },
    {
      "cell_type": "code",
      "metadata": {
        "id": "94IpgcgPLs4N",
        "colab": {
          "base_uri": "https://localhost:8080/",
          "height": 330
        },
        "outputId": "4f5d0bef-06ab-40ba-87cc-20af7471d6fe"
      },
      "source": [
        "base_learners = [60,80,100,120]\n",
        "depths=[500,900,1200]\n",
        "\n",
        "X=[]\n",
        "Y=[]\n",
        "Z=[]\n",
        "Zt=[]\n",
        "for bl in base_learners:\n",
        "    for d in depths:\n",
        "        gbdt=XGBClassifier(booster='gbtree' ,max_depth=d,n_estimators=bl)        \n",
        "        gbdt.fit(X_train_tf,y_train)\n",
        "        pred=gbdt.predict_proba(X_cv_tf)[:,1]\n",
        "        predt=gbdt.predict_proba(X_train_tf)[:,1]\n",
        "        X.append(bl)\n",
        "        Y.append(d)\n",
        "        Z.append(roc_auc_score(y_cv,pred))\n",
        "        Zt.append(roc_auc_score(y_train,predt))\n",
        "\n",
        "optimal_depth=Y[Z.index(max(Z))]   \n",
        "optimal_n_estimator=X[Z.index(max(Z))]\n",
        "\n",
        "print('optimal depth : ',optimal_depth)\n",
        "print('optimal n_estimator : ',optimal_n_estimator)\n",
        "        \n",
        "data = pd.DataFrame({'n_estimators': X, 'max_depth': Y, 'AUC': Z})\n",
        "data_pivoted = data.pivot(\"n_estimators\", \"max_depth\", \"AUC\")\n",
        "ax = sns.heatmap(data_pivoted,annot=True)\n",
        "plt.title('Heatmap for cross validation data')\n",
        "plt.show()"
      ],
      "execution_count": null,
      "outputs": [
        {
          "output_type": "stream",
          "text": [
            "optimal depth :  500\n",
            "optimal n_estimator :  120\n"
          ],
          "name": "stdout"
        },
        {
          "output_type": "display_data",
          "data": {
            "image/png": "[encoded data removed]",
            "text/plain": [
              "<Figure size 432x288 with 2 Axes>"
            ]
          },
          "metadata": {
            "tags": [],
            "needs_background": "light"
          }
        }
      ]
    },
    {
      "cell_type": "code",
      "metadata": {
        "id": "Ac3dY69F1cGF",
        "colab": {
          "base_uri": "https://localhost:8080/",
          "height": 296
        },
        "outputId": "7538467b-0e44-4d35-dc35-e3381ac483dd"
      },
      "source": [
        "data = pd.DataFrame({'n_estimators': X, 'max_depth': Y, 'AUC': Zt})\n",
        "data_pivoted = data.pivot(\"n_estimators\", \"max_depth\", \"AUC\")\n",
        "ax = sns.heatmap(data_pivoted,annot=True)\n",
        "plt.title('Heatmap for train data')\n",
        "plt.show()"
      ],
      "execution_count": null,
      "outputs": [
        {
          "output_type": "display_data",
          "data": {
            "image/png": "[encoded data removed]",
            "text/plain": [
              "<Figure size 432x288 with 2 Axes>"
            ]
          },
          "metadata": {
            "tags": [],
            "needs_background": "light"
          }
        }
      ]
    },
    {
      "cell_type": "code",
      "metadata": {
        "id": "Av2TC_g01cGI",
        "colab": {
          "base_uri": "https://localhost:8080/",
          "height": 295
        },
        "outputId": "c39e7291-1433-40ac-9164-185c1fe340f1"
      },
      "source": [
        "#Plotting ROC \n",
        "\n",
        "gbdt=XGBClassifier(booster='gbtree' ,max_depth=optimal_depth,n_estimators=optimal_n_estimator)\n",
        "gbdt.fit(X_train_tf,y_train)\n",
        "predi=gbdt.predict_proba(X_test_tf)[:,1]\n",
        "fpr1, tpr1, thresholds1 = metrics.roc_curve(y_test, predi)\n",
        "pred=gbdt.predict_proba(X_train_tf)[:,1]\n",
        "fpr2,tpr2,thresholds2=metrics.roc_curve(y_train,pred)\n",
        "fig = plt.figure()\n",
        "ax = plt.subplot(111)\n",
        "ax.plot(fpr1, tpr1, label='Test ROC ,auc='+str(roc_auc_score(y_test,predi)))\n",
        "ax.plot(fpr2, tpr2, label='Train ROC ,auc='+str(roc_auc_score(y_train,pred)))\n",
        "plt.title('ROC')\n",
        "plt.xlabel('FPR')\n",
        "plt.ylabel('TPR')\n",
        "ax.legend()\n",
        "plt.show()"
      ],
      "execution_count": null,
      "outputs": [
        {
          "output_type": "display_data",
          "data": {
            "image/png": "[encoded data removed]",
            "text/plain": [
              "<Figure size 432x288 with 1 Axes>"
            ]
          },
          "metadata": {
            "tags": [],
            "needs_background": "light"
          }
        }
      ]
    },
    {
      "cell_type": "markdown",
      "metadata": {
        "id": "ZJ44MDON__8Z"
      },
      "source": [
        "### <a id='6221'> 6.2.2.1. Evaluation metrics </a>"
      ]
    },
    {
      "cell_type": "code",
      "metadata": {
        "id": "uz5YqdfK1cGM",
        "colab": {
          "base_uri": "https://localhost:8080/",
          "height": 514
        },
        "outputId": "9d26f885-5978-409b-a799-0d72e054668d"
      },
      "source": [
        "#Confusion matrix using heatmap for train data\n",
        "\n",
        "predic=gbdt.predict(X_train_tf)\n",
        "\n",
        "conf_mat = confusion_matrix(y_train, predic)\n",
        "class_label = [\"negative\", \"positive\"]\n",
        "df = pd.DataFrame(conf_mat, index = class_label, columns = class_label)\n",
        "\n",
        "sns.heatmap(df, annot = True,fmt=\"d\")\n",
        "plt.title(\"Confusion Matrix for train data\")\n",
        "plt.xlabel(\"Predicted Label\")\n",
        "plt.ylabel(\"True Label\")\n",
        "plt.show()\n",
        "\n",
        "print('\\n')\n",
        "print('-'*20,'Metric report for train data','-'*20)\n",
        "print('\\n',classification_report(y_train,predic))"
      ],
      "execution_count": null,
      "outputs": [
        {
          "output_type": "display_data",
          "data": {
            "image/png": "[encoded data removed]",
            "text/plain": [
              "<Figure size 432x288 with 2 Axes>"
            ]
          },
          "metadata": {
            "tags": [],
            "needs_background": "light"
          }
        },
        {
          "output_type": "stream",
          "text": [
            "\n",
            "\n",
            "-------------------- Metric report for train data --------------------\n",
            "\n",
            "               precision    recall  f1-score   support\n",
            "\n",
            "           0       1.00      1.00      1.00      6978\n",
            "           1       1.00      1.00      1.00     36030\n",
            "\n",
            "    accuracy                           1.00     43008\n",
            "   macro avg       1.00      1.00      1.00     43008\n",
            "weighted avg       1.00      1.00      1.00     43008\n",
            "\n"
          ],
          "name": "stdout"
        }
      ]
    },
    {
      "cell_type": "code",
      "metadata": {
        "id": "YCLndk381cGU",
        "colab": {
          "base_uri": "https://localhost:8080/",
          "height": 514
        },
        "outputId": "d0a18756-8981-4c44-bd78-aa09a281cf94"
      },
      "source": [
        "#Confusion matrix using heatmap for test data\n",
        "\n",
        "predic=gbdt.predict(X_test_tf)\n",
        "\n",
        "conf_mat = confusion_matrix(y_test, predic)\n",
        "class_label = [\"negative\", \"positive\"]\n",
        "df = pd.DataFrame(conf_mat, index = class_label, columns = class_label)\n",
        "\n",
        "sns.heatmap(df, annot = True,fmt=\"d\")\n",
        "plt.title(\"Confusion Matrix for test data\")\n",
        "plt.xlabel(\"Predicted Label\")\n",
        "plt.ylabel(\"True Label\")\n",
        "plt.show()\n",
        "\n",
        "print('\\n')\n",
        "print('-'*20,'Metric report for test data','-'*20)\n",
        "print('\\n',classification_report(y_test,predic))"
      ],
      "execution_count": null,
      "outputs": [
        {
          "output_type": "display_data",
          "data": {
            "image/png": "[encoded data removed]",
            "text/plain": [
              "<Figure size 432x288 with 2 Axes>"
            ]
          },
          "metadata": {
            "tags": [],
            "needs_background": "light"
          }
        },
        {
          "output_type": "stream",
          "text": [
            "\n",
            "\n",
            "-------------------- Metric report for test data --------------------\n",
            "\n",
            "               precision    recall  f1-score   support\n",
            "\n",
            "           0       0.83      0.55      0.66      4228\n",
            "           1       0.92      0.98      0.95     22104\n",
            "\n",
            "    accuracy                           0.91     26332\n",
            "   macro avg       0.87      0.77      0.81     26332\n",
            "weighted avg       0.91      0.91      0.90     26332\n",
            "\n"
          ],
          "name": "stdout"
        }
      ]
    },
    {
      "cell_type": "markdown",
      "metadata": {
        "id": "AMpRCS_sLs4T"
      },
      "source": [
        "# <a id='7'> 7. Model Performance Summary</a>"
      ]
    },
    {
      "cell_type": "code",
      "metadata": {
        "id": "kMBho-LiLs4T",
        "colab": {
          "base_uri": "https://localhost:8080/",
          "height": 151
        },
        "outputId": "05b937b0-d80b-4387-f102-170fc9e0f1fb"
      },
      "source": [
        "from prettytable import PrettyTable    \n",
        "\n",
        "x = PrettyTable()\n",
        "x.field_names = [\"Model\",\"Vectorizer\",\"optimal max_depth\", \"optimal n_estimators\", \"AUC\"]\n",
        "x.add_row(['Random Forest','BOW','500','120','0.915'])\n",
        "x.add_row(['Random Forest','TFIDF','900','120','0.933'])\n",
        "\n",
        "x.add_row(['XGBOOST GBDT','Bow','500','120','0.929'])\n",
        "x.add_row(['XGBOOST GBDT','TFIDF','500','120','0.933'])\n",
        "\n",
        "print(x)"
      ],
      "execution_count": null,
      "outputs": [
        {
          "output_type": "stream",
          "text": [
            "+---------------+------------+-------------------+----------------------+-------+\n",
            "|     Model     | Vectorizer | optimal max_depth | optimal n_estimators |  AUC  |\n",
            "+---------------+------------+-------------------+----------------------+-------+\n",
            "| Random Forest |    BOW     |        500        |         120          | 0.915 |\n",
            "| Random Forest |   TFIDF    |        900        |         120          | 0.933 |\n",
            "|  XGBOOST GBDT |    Bow     |        500        |         120          | 0.929 |\n",
            "|  XGBOOST GBDT |   TFIDF    |        500        |         120          | 0.933 |\n",
            "+---------------+------------+-------------------+----------------------+-------+\n"
          ],
          "name": "stdout"
        }
      ]
    },
    {
      "cell_type": "markdown",
      "metadata": {
        "id": "umndpaZF1cHS"
      },
      "source": [
        "# <a id='8'> 8. Model Observations</a>\n",
        "0) First we splitted whole data into train, cross-validate, and test datasets\n",
        "\n",
        "1) Then, we featurized the text data(reviews) into numerical vectors using Bag of Words(BoW) and TF-IDF, text featurization techniques.\n",
        "\n",
        "2) We built Random forest and XGBoost models to find out whether a given review is positive or negative.\n",
        "\n",
        "2) For this we took 100k datapoints out of the total ~ 568k datapoints, because of hardware constraints.\n",
        "\n",
        "3) In each model we figured out our best hyperparamter max_depth and n_estimator and plotted heatmap for both train and cv data, after hyperparameter tuning we plotted the ROC curve for both train as well as test data.\n",
        "\n",
        "4) At the end we displayed best hyperparamters and AUC value of both the models using prettytable."
      ]
    },
    {
      "cell_type": "code",
      "metadata": {
        "id": "Q4TJg0u_wP6E"
      },
      "source": [
        ""
      ],
      "execution_count": null,
      "outputs": []
    },
    {
      "cell_type": "markdown",
      "metadata": {
        "id": "YwHpa1wR_u5A"
      },
      "source": [
        "# <a id='9'> 9. References</a>\n",
        "\n",
        "- AppliedAI.com\n",
        "- Data source: https://www.kaggle.com/snap/amazon-fine-food-reviews\n",
        "\n",
        "- EDA: https://nycdatascience.com/blog/student-works/amazon-fine-foods-visualization/\n",
        "- Regular expression tutorial: https://pymotw.com/2/re/\n",
        "- Remove urls from text python: https://stackoverflow.com/a/40823105/4084039\n",
        "- Remove-all-tags-from-an-element: https://stackoverflow.com/questions/16206380/python-beautifulsoup-how-to-remove-all-tags-from-an-element\n",
        "- Expanding english language contractions: https://stackoverflow.com/a/47091490/4084039\n",
        "- Remove words with numbers python: https://stackoverflow.com/a/18082370/4084039\n",
        "- Remove spacial character: https://stackoverflow.com/a/5843547/4084039\n",
        "- https://gist.github.com/sebleier/554280"
      ]
    },
    {
      "cell_type": "code",
      "metadata": {
        "id": "HyxCfR0FBXP1"
      },
      "source": [
        ""
      ],
      "execution_count": null,
      "outputs": []
    }
  ]
}